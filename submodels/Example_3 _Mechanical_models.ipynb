{
 "cells": [
  {
   "cell_type": "markdown",
   "id": "5f44adf1",
   "metadata": {},
   "source": [
    "# Example 3\n",
    "\n",
    "## Particle Mechanics"
   ]
  },
  {
   "cell_type": "markdown",
   "id": "4aec4dd2",
   "metadata": {},
   "source": [
    "### None: \n",
    "no mechanical effects included.\n",
    "### Swelling only: \n",
    "accounts for the deformation of the particles in the lithiation-delithiation cycle.\n",
    "### Swelling and cracking: \n",
    "accounts for the swelling and also the crack formation on the particle surface.\n"
   ]
  },
  {
   "cell_type": "code",
   "execution_count": null,
   "id": "34cbf917",
   "metadata": {},
   "outputs": [],
   "source": [
    "%pip install pybamm -q    # install PyBaMM if it is not installed"
   ]
  },
  {
   "cell_type": "code",
   "execution_count": null,
   "id": "4d76f6f9",
   "metadata": {},
   "outputs": [],
   "source": [
    "import pybamm"
   ]
  },
  {
   "cell_type": "markdown",
   "id": "e1f15d11",
   "metadata": {},
   "source": [
    "You can pass multiple options to combine different effects. In this example we include thermal and mechanical effects in the DFN. \n",
    "\n"
   ]
  },
  {
   "cell_type": "markdown",
   "id": "4b3e0a36",
   "metadata": {},
   "source": [
    "Reference:\n",
    "The mechanical model is from the paper \"Electrochemical Thermal-Mechanical Modelling of Stress Inhomogeneity in Lithium-Ion Pouch Cells\", Ai et al, 2020.\n"
   ]
  },
  {
   "cell_type": "code",
   "execution_count": null,
   "id": "1930d05e",
   "metadata": {},
   "outputs": [],
   "source": [
    "params = pybamm.ParameterValues(\"Ai2020\")\n"
   ]
  },
  {
   "cell_type": "markdown",
   "id": "d01132d2",
   "metadata": {},
   "source": [
    "Lets load the model"
   ]
  },
  {
   "cell_type": "code",
   "execution_count": null,
   "id": "72c5e087",
   "metadata": {},
   "outputs": [],
   "source": [
    "model = pybamm.lithium_ion.DFN(\n",
    "         options = {\n",
    "             \"particle\": \"Fickian diffusion\",\n",
    "             \"thermal\": \"lumped\",\n",
    "             \"particle mechanics\": \"swelling only\",\n",
    "         }\n",
    ")"
   ]
  },
  {
   "cell_type": "code",
   "execution_count": null,
   "id": "0a8d5a25",
   "metadata": {},
   "outputs": [],
   "source": [
    "sim = pybamm.Simulation(model, parameter_values = params)\n",
    "sim.solve([0,3600])\n",
    "sim.plot(\n",
    "    output_variables=[\n",
    "       \"Terminal voltage [V]\", \n",
    "        \"Volume-averaged cell temperature [K]\", \n",
    "        \"Cell thickness change [m]\"\n",
    "    ],\n",
    ")"
   ]
  },
  {
   "cell_type": "code",
   "execution_count": null,
   "id": "64e76978",
   "metadata": {},
   "outputs": [],
   "source": [
    "experiment = pybamm.Experiment(\n",
    "    [\n",
    "        (\n",
    "            \"Discharge at 1C until 3.7V\",\n",
    "            \"Charge at 0.3C for 3600 seconds (3 minute period)\"\n",
    "        )\n",
    "    ]\n",
    "    * 1,\n",
    ")\n",
    "\n",
    "sim = pybamm.Simulation(model, parameter_values = params, experiment=experiment)\n",
    "sim.solve()\n",
    "sim.plot(\n",
    "    output_variables=[\n",
    "       \"Terminal voltage [V]\", \n",
    "        \"Volume-averaged cell temperature [K]\", \n",
    "        \"Cell thickness change [m]\"\n",
    "    ],\n",
    ")"
   ]
  },
  {
   "cell_type": "markdown",
   "id": "6dad134d",
   "metadata": {},
   "source": [
    "# Exercise\n",
    "\n",
    "Run the DFN model with swelling in the negative electrode and swelling and cracking in the positive electrode. Plot the relevant variables, and recall that you can find the list of variables to plot by typing model.variable_names(). What do you observe in the model?"
   ]
  },
  {
   "cell_type": "code",
   "execution_count": null,
   "id": "7eb92578",
   "metadata": {},
   "outputs": [],
   "source": []
  },
  {
   "cell_type": "code",
   "execution_count": null,
   "id": "1cbe2484",
   "metadata": {},
   "outputs": [],
   "source": []
  },
  {
   "cell_type": "code",
   "execution_count": null,
   "id": "6d691373",
   "metadata": {},
   "outputs": [],
   "source": []
  },
  {
   "cell_type": "code",
   "execution_count": null,
   "id": "2a143d24",
   "metadata": {},
   "outputs": [],
   "source": [
    "model = pybamm.lithium_ion.DFN(\n",
    "    options={\"particle mechanics\": (\"swelling only\", \"swelling and cracking\")}\n",
    ")\n",
    "parameter_values = pybamm.ParameterValues(\"Ai2020\")\n",
    "simulation = pybamm.Simulation(model, parameter_values=parameter_values)\n",
    "solution = simulation.solve([0, 3600])\n",
    "\n",
    "solution.plot([\n",
    "    \"Negative particle surface radial stress [Pa]\",\n",
    "    \"Negative particle surface tangential stress [Pa]\",\n",
    "    \"Negative particle surface displacement [m]\",\n",
    "\t\"Negative particle crack length [m]\",\n",
    "    \"Positive particle surface radial stress [Pa]\",\n",
    "    \"Positive particle surface tangential stress [Pa]\",\n",
    "    \"Positive particle surface displacement [m]\",\n",
    "    \"Positive particle crack length [m]\",\n",
    "])"
   ]
  },
  {
   "cell_type": "code",
   "execution_count": null,
   "id": "af5006b9",
   "metadata": {},
   "outputs": [],
   "source": [
    "simulation.plot(\n",
    "    output_variables=[\n",
    "       \"Terminal voltage [V]\", \n",
    "        \"Volume-averaged cell temperature [K]\", \n",
    "        \"Cell thickness change [m]\"\n",
    "    ],\n",
    ")"
   ]
  },
  {
   "cell_type": "markdown",
   "id": "67188573",
   "metadata": {},
   "source": [
    "A few key observations are that the surface radial stress is always zero. As expected, there is no cracking in the negative electrode (we did not enable that option) but there is cracking in the positive one."
   ]
  },
  {
   "cell_type": "code",
   "execution_count": null,
   "id": "df069c9c",
   "metadata": {},
   "outputs": [],
   "source": []
  }
 ],
 "metadata": {
  "kernelspec": {
   "display_name": "Python 3 (ipykernel)",
   "language": "python",
   "name": "python3"
  },
  "language_info": {
   "codemirror_mode": {
    "name": "ipython",
    "version": 3
   },
   "file_extension": ".py",
   "mimetype": "text/x-python",
   "name": "python",
   "nbconvert_exporter": "python",
   "pygments_lexer": "ipython3",
   "version": "3.9.12"
  }
 },
 "nbformat": 4,
 "nbformat_minor": 5
}
