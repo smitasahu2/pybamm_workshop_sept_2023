{
 "cells": [
  {
   "cell_type": "markdown",
   "metadata": {},
   "source": [
    "# Modelling lithium plating in PyBaMM\n",
    "\n",
    "This notebook shows how PyBaMM [7] can be used to model both reversible and irreversible lithium plating."
   ]
  },
  {
   "cell_type": "code",
   "execution_count": 1,
   "metadata": {},
   "outputs": [
    {
     "name": "stdout",
     "output_type": "stream",
     "text": [
      "Note: you may need to restart the kernel to use updated packages.\n"
     ]
    }
   ],
   "source": [
    "%pip install pybamm -q    # install PyBaMM if it is not installed\n",
    "import pybamm\n",
    "import os\n",
    "import numpy as np\n",
    "import matplotlib.pyplot as plt\n",
    "os.chdir(pybamm.__path__[0]+'/..')"
   ]
  },
  {
   "cell_type": "markdown",
   "metadata": {},
   "source": [
    "The Doyle-Fuller-Newman model [3] is upgraded with two different lithium plating models. Model 1 contains the reversible lithium plating model of O'Kane et al. [5], while model 2 contains the same model but with the lithium stripping capability removed, making the plating irreversible. The parameters are taken from Chen et al.'s investigation [2] of an LG M50 cell."
   ]
  },
  {
   "cell_type": "code",
   "execution_count": 2,
   "metadata": {},
   "outputs": [
    {
     "ename": "AttributeError",
     "evalue": "'ParameterSets' object has no attribute 'Chen2020_plating'",
     "output_type": "error",
     "traceback": [
      "\u001b[0;31m---------------------------------------------------------------------------\u001b[0m",
      "\u001b[0;31mAttributeError\u001b[0m                            Traceback (most recent call last)",
      "Input \u001b[0;32mIn [2]\u001b[0m, in \u001b[0;36m<cell line: 6>\u001b[0;34m()\u001b[0m\n\u001b[1;32m      3\u001b[0m model2 \u001b[38;5;241m=\u001b[39m pybamm\u001b[38;5;241m.\u001b[39mlithium_ion\u001b[38;5;241m.\u001b[39mDFN(options\u001b[38;5;241m=\u001b[39m{\u001b[38;5;124m\"\u001b[39m\u001b[38;5;124mlithium plating\u001b[39m\u001b[38;5;124m\"\u001b[39m: \u001b[38;5;124m\"\u001b[39m\u001b[38;5;124mirreversible\u001b[39m\u001b[38;5;124m\"\u001b[39m})\n\u001b[1;32m      5\u001b[0m \u001b[38;5;66;03m# pick parameters\u001b[39;00m\n\u001b[0;32m----> 6\u001b[0m chemistry \u001b[38;5;241m=\u001b[39m \u001b[43mpybamm\u001b[49m\u001b[38;5;241;43m.\u001b[39;49m\u001b[43mparameter_sets\u001b[49m\u001b[38;5;241;43m.\u001b[39;49m\u001b[43mChen2020_plating\u001b[49m\n\u001b[1;32m      7\u001b[0m parameter_values \u001b[38;5;241m=\u001b[39m pybamm\u001b[38;5;241m.\u001b[39mParameterValues(chemistry\u001b[38;5;241m=\u001b[39mchemistry)\n\u001b[1;32m      8\u001b[0m \u001b[38;5;66;03m#parameter_values.update({\"Reference temperature [K]\": 268.15})\u001b[39;00m\n",
      "File \u001b[0;32m~/opt/anaconda3/lib/python3.9/site-packages/pybamm/parameters/parameter_sets.py:90\u001b[0m, in \u001b[0;36mParameterSets.__getattribute__\u001b[0;34m(self, name)\u001b[0m\n\u001b[1;32m     88\u001b[0m     warnings\u001b[38;5;241m.\u001b[39mwarn(msg, \u001b[38;5;167;01mDeprecationWarning\u001b[39;00m)\n\u001b[1;32m     89\u001b[0m     \u001b[38;5;28;01mreturn\u001b[39;00m name\n\u001b[0;32m---> 90\u001b[0m \u001b[38;5;28;01mraise\u001b[39;00m error\n",
      "File \u001b[0;32m~/opt/anaconda3/lib/python3.9/site-packages/pybamm/parameters/parameter_sets.py:78\u001b[0m, in \u001b[0;36mParameterSets.__getattribute__\u001b[0;34m(self, name)\u001b[0m\n\u001b[1;32m     76\u001b[0m \u001b[38;5;28;01mdef\u001b[39;00m \u001b[38;5;21m__getattribute__\u001b[39m(\u001b[38;5;28mself\u001b[39m, name):\n\u001b[1;32m     77\u001b[0m     \u001b[38;5;28;01mtry\u001b[39;00m:\n\u001b[0;32m---> 78\u001b[0m         \u001b[38;5;28;01mreturn\u001b[39;00m \u001b[38;5;28;43msuper\u001b[39;49m\u001b[43m(\u001b[49m\u001b[43m)\u001b[49m\u001b[38;5;241;43m.\u001b[39;49m\u001b[38;5;21;43m__getattribute__\u001b[39;49m\u001b[43m(\u001b[49m\u001b[43mname\u001b[49m\u001b[43m)\u001b[49m\n\u001b[1;32m     79\u001b[0m     \u001b[38;5;28;01mexcept\u001b[39;00m \u001b[38;5;167;01mAttributeError\u001b[39;00m \u001b[38;5;28;01mas\u001b[39;00m error:\n\u001b[1;32m     80\u001b[0m         \u001b[38;5;66;03m# For backwards compatibility, parameter sets that used to be defined in\u001b[39;00m\n\u001b[1;32m     81\u001b[0m         \u001b[38;5;66;03m# this file now return the name as a string, which will load the same\u001b[39;00m\n\u001b[1;32m     82\u001b[0m         \u001b[38;5;66;03m# parameter set as before when passed to `ParameterValues`\u001b[39;00m\n\u001b[1;32m     83\u001b[0m         \u001b[38;5;28;01mif\u001b[39;00m name \u001b[38;5;129;01min\u001b[39;00m \u001b[38;5;28mself\u001b[39m:\n",
      "\u001b[0;31mAttributeError\u001b[0m: 'ParameterSets' object has no attribute 'Chen2020_plating'"
     ]
    }
   ],
   "source": [
    "# choose models\n",
    "model1 = pybamm.lithium_ion.DFN(options={\"lithium plating\": \"reversible\"})\n",
    "model2 = pybamm.lithium_ion.DFN(options={\"lithium plating\": \"irreversible\"})\n",
    "\n",
    "# pick parameters\n",
    "chemistry = pybamm.parameter_sets.Chen2020_plating\n",
    "parameter_values = pybamm.ParameterValues(chemistry=chemistry)\n",
    "#parameter_values.update({\"Reference temperature [K]\": 268.15})\n",
    "parameter_values.update({\"Ambient temperature [K]\": 268.15})\n",
    "#parameter_values.update({\"Initial temperature [K]\": 268.15})\n",
    "parameter_values.update({\"Upper voltage cut-off [V]\": 4.21})\n",
    "parameter_values.update({\"Lithium plating kinetic rate constant [m.s-1]\": 1E-9})"
   ]
  },
  {
   "cell_type": "markdown",
   "metadata": {},
   "source": [
    "A series of simple fast charging experiments based on those of Ren et al. [6] is defined here. We first initialise the model at 0% SoC by performing a C/20 discharge (see more details on how to initialise a model from a simulation in [this notebook](./initialise-model-with-solution.ipynb))."
   ]
  },
  {
   "cell_type": "code",
   "execution_count": 3,
   "metadata": {},
   "outputs": [
    {
     "ename": "NameError",
     "evalue": "name 'parameter_values' is not defined",
     "output_type": "error",
     "traceback": [
      "\u001b[0;31m---------------------------------------------------------------------------\u001b[0m",
      "\u001b[0;31mNameError\u001b[0m                                 Traceback (most recent call last)",
      "Input \u001b[0;32mIn [3]\u001b[0m, in \u001b[0;36m<cell line: 11>\u001b[0;34m()\u001b[0m\n\u001b[1;32m      2\u001b[0m pybamm\u001b[38;5;241m.\u001b[39mcitations\u001b[38;5;241m.\u001b[39mregister(\u001b[38;5;124m\"\u001b[39m\u001b[38;5;124mRen2018\u001b[39m\u001b[38;5;124m\"\u001b[39m)\n\u001b[1;32m      4\u001b[0m experiment_discharge \u001b[38;5;241m=\u001b[39m pybamm\u001b[38;5;241m.\u001b[39mExperiment(\n\u001b[1;32m      5\u001b[0m     [\n\u001b[1;32m      6\u001b[0m         (\u001b[38;5;124m\"\u001b[39m\u001b[38;5;124mDischarge at C/20 until 2.5 V (10 minute period)\u001b[39m\u001b[38;5;124m\"\u001b[39m,\n\u001b[1;32m      7\u001b[0m         \u001b[38;5;124m\"\u001b[39m\u001b[38;5;124mRest for 1 hour (3 minute period)\u001b[39m\u001b[38;5;124m\"\u001b[39m)\n\u001b[1;32m      8\u001b[0m     ]\n\u001b[1;32m      9\u001b[0m )\n\u001b[0;32m---> 11\u001b[0m sim_discharge1 \u001b[38;5;241m=\u001b[39m pybamm\u001b[38;5;241m.\u001b[39mSimulation(model1, parameter_values\u001b[38;5;241m=\u001b[39m\u001b[43mparameter_values\u001b[49m, experiment\u001b[38;5;241m=\u001b[39mexperiment_discharge)\n\u001b[1;32m     12\u001b[0m sol_discharge1 \u001b[38;5;241m=\u001b[39m sim_discharge1\u001b[38;5;241m.\u001b[39msolve()\n\u001b[1;32m     13\u001b[0m model1\u001b[38;5;241m.\u001b[39mset_initial_conditions_from(sol_discharge1, inplace\u001b[38;5;241m=\u001b[39m\u001b[38;5;28;01mTrue\u001b[39;00m)\n",
      "\u001b[0;31mNameError\u001b[0m: name 'parameter_values' is not defined"
     ]
    }
   ],
   "source": [
    "# specify experiments\n",
    "pybamm.citations.register(\"Ren2018\")\n",
    "\n",
    "experiment_discharge = pybamm.Experiment(\n",
    "    [\n",
    "        (\"Discharge at C/20 until 2.5 V (10 minute period)\",\n",
    "        \"Rest for 1 hour (3 minute period)\")\n",
    "    ]\n",
    ")\n",
    "\n",
    "sim_discharge1 = pybamm.Simulation(model1, parameter_values=parameter_values, experiment=experiment_discharge)\n",
    "sol_discharge1 = sim_discharge1.solve()\n",
    "model1.set_initial_conditions_from(sol_discharge1, inplace=True)\n",
    "\n",
    "sim_discharge2 = pybamm.Simulation(model2, parameter_values=parameter_values, experiment=experiment_discharge)\n",
    "sol_discharge2 = sim_discharge2.solve()\n",
    "model2.set_initial_conditions_from(sol_discharge2, inplace=True)"
   ]
  },
  {
   "cell_type": "markdown",
   "metadata": {},
   "source": [
    "And we can now define the different experiments to charge at different C-rates."
   ]
  },
  {
   "cell_type": "code",
   "execution_count": 4,
   "metadata": {},
   "outputs": [],
   "source": [
    "experiment_2C = pybamm.Experiment(\n",
    "    [\n",
    "        (\"Charge at 2C until 4.2 V\",\n",
    "        \"Hold at 4.2 V until C/20\",\n",
    "        \"Rest for 1 hour\")\n",
    "    ]\n",
    ")\n",
    "experiment_1C = pybamm.Experiment(\n",
    "    [\n",
    "        (\"Charge at 1C until 4.2 V\",\n",
    "        \"Hold at 4.2 V until C/20\",\n",
    "        \"Rest for 1 hour\")\n",
    "    ]\n",
    ")\n",
    "experiment_Cover2 = pybamm.Experiment(\n",
    "    [\n",
    "        (\"Charge at C/2 until 4.2 V\",\n",
    "        \"Hold at 4.2 V until C/20\",\n",
    "        \"Rest for 1 hour\")\n",
    "    ]\n",
    ")\n",
    "experiment_Cover4 = pybamm.Experiment(\n",
    "    [\n",
    "        (\"Charge at C/4 until 4.2 V\",\n",
    "        \"Hold at 4.2 V until C/20\",\n",
    "        \"Rest for 1 hour\")\n",
    "    ]\n",
    ")\n",
    "experiment_Cover8 = pybamm.Experiment(\n",
    "    [\n",
    "        (\"Charge at C/8 until 4.2 V\",\n",
    "        \"Hold at 4.2 V until C/20\",\n",
    "        \"Rest for 1 hour\")\n",
    "    ]\n",
    ")"
   ]
  },
  {
   "cell_type": "markdown",
   "metadata": {},
   "source": [
    "Solve the reversible plating model first. The default CasADi [1] solver is used here."
   ]
  },
  {
   "cell_type": "code",
   "execution_count": 5,
   "metadata": {},
   "outputs": [
    {
     "ename": "NameError",
     "evalue": "name 'parameter_values' is not defined",
     "output_type": "error",
     "traceback": [
      "\u001b[0;31m---------------------------------------------------------------------------\u001b[0m",
      "\u001b[0;31mNameError\u001b[0m                                 Traceback (most recent call last)",
      "Input \u001b[0;32mIn [5]\u001b[0m, in \u001b[0;36m<cell line: 1>\u001b[0;34m()\u001b[0m\n\u001b[0;32m----> 1\u001b[0m sim1_2C \u001b[38;5;241m=\u001b[39m pybamm\u001b[38;5;241m.\u001b[39mSimulation(model1, experiment\u001b[38;5;241m=\u001b[39mexperiment_2C, parameter_values\u001b[38;5;241m=\u001b[39m\u001b[43mparameter_values\u001b[49m)\n\u001b[1;32m      2\u001b[0m sim1_2C\u001b[38;5;241m.\u001b[39msolve()\n\u001b[1;32m      3\u001b[0m sim1_1C \u001b[38;5;241m=\u001b[39m pybamm\u001b[38;5;241m.\u001b[39mSimulation(model1, experiment\u001b[38;5;241m=\u001b[39mexperiment_1C, parameter_values\u001b[38;5;241m=\u001b[39mparameter_values)\n",
      "\u001b[0;31mNameError\u001b[0m: name 'parameter_values' is not defined"
     ]
    }
   ],
   "source": [
    "sim1_2C = pybamm.Simulation(model1, experiment=experiment_2C, parameter_values=parameter_values)\n",
    "sim1_2C.solve()\n",
    "sim1_1C = pybamm.Simulation(model1, experiment=experiment_1C, parameter_values=parameter_values)\n",
    "sim1_1C.solve()\n",
    "sim1_Cover2 = pybamm.Simulation(model1, experiment=experiment_Cover2, parameter_values=parameter_values)\n",
    "sim1_Cover2.solve()\n",
    "sim1_Cover4 = pybamm.Simulation(model1, experiment=experiment_Cover4, parameter_values=parameter_values)\n",
    "sim1_Cover4.solve()\n",
    "sim1_Cover8 = pybamm.Simulation(model1, experiment=experiment_Cover8, parameter_values=parameter_values)\n",
    "sim1_Cover8.solve()"
   ]
  },
  {
   "cell_type": "code",
   "execution_count": 6,
   "metadata": {},
   "outputs": [
    {
     "ename": "NameError",
     "evalue": "name 'parameter_values' is not defined",
     "output_type": "error",
     "traceback": [
      "\u001b[0;31m---------------------------------------------------------------------------\u001b[0m",
      "\u001b[0;31mNameError\u001b[0m                                 Traceback (most recent call last)",
      "Input \u001b[0;32mIn [6]\u001b[0m, in \u001b[0;36m<cell line: 1>\u001b[0;34m()\u001b[0m\n\u001b[0;32m----> 1\u001b[0m A \u001b[38;5;241m=\u001b[39m \u001b[43mparameter_values\u001b[49m\u001b[38;5;241m.\u001b[39mevaluate(model1\u001b[38;5;241m.\u001b[39mparam\u001b[38;5;241m.\u001b[39mL_y \u001b[38;5;241m*\u001b[39m model1\u001b[38;5;241m.\u001b[39mparam\u001b[38;5;241m.\u001b[39mL_z)\n\u001b[1;32m      2\u001b[0m F \u001b[38;5;241m=\u001b[39m parameter_values\u001b[38;5;241m.\u001b[39mevaluate(model1\u001b[38;5;241m.\u001b[39mparam\u001b[38;5;241m.\u001b[39mF)\n\u001b[1;32m      3\u001b[0m L_n \u001b[38;5;241m=\u001b[39m parameter_values\u001b[38;5;241m.\u001b[39mevaluate(model1\u001b[38;5;241m.\u001b[39mparam\u001b[38;5;241m.\u001b[39mL_n)\n",
      "\u001b[0;31mNameError\u001b[0m: name 'parameter_values' is not defined"
     ]
    }
   ],
   "source": [
    "A = parameter_values.evaluate(model1.param.L_y * model1.param.L_z)\n",
    "F = parameter_values.evaluate(model1.param.F)\n",
    "L_n = parameter_values.evaluate(model1.param.L_n)\n",
    "# Isolate final equilibration phase\n",
    "sol_2C_rest = sim1_2C.solution.cycles[0].steps[2]\n",
    "sol_1C_rest = sim1_1C.solution.cycles[0].steps[2]\n",
    "sol_Cover2_rest = sim1_Cover2.solution.cycles[0].steps[2]\n",
    "sol_Cover4_rest = sim1_Cover4.solution.cycles[0].steps[2]\n",
    "sol_Cover8_rest = sim1_Cover8.solution.cycles[0].steps[2]\n",
    "# Time (hours)\n",
    "t_2C = sol_2C_rest[\"Time [s]\"].entries-sol_2C_rest[\"Time [s]\"].entries[0]\n",
    "t_1C = sol_1C_rest[\"Time [s]\"].entries-sol_1C_rest[\"Time [s]\"].entries[0]\n",
    "t_Cover2 = sol_Cover2_rest[\"Time [s]\"].entries-sol_Cover2_rest[\"Time [s]\"].entries[0]\n",
    "t_Cover4 = sol_Cover4_rest[\"Time [s]\"].entries-sol_Cover4_rest[\"Time [s]\"].entries[0]\n",
    "t_Cover8 = sol_Cover8_rest[\"Time [s]\"].entries-sol_Cover8_rest[\"Time [s]\"].entries[0]\n",
    "# Intercalated capacity (Ah)\n",
    "Q_main_2C = sol_2C_rest[\"Negative electrode volume-averaged concentration [mol.m-3]\"].entries * F * A * L_n / 3600\n",
    "Q_main_1C = sol_1C_rest[\"Negative electrode volume-averaged concentration [mol.m-3]\"].entries * F * A * L_n / 3600\n",
    "Q_main_Cover2 = sol_Cover2_rest[\"Negative electrode volume-averaged concentration [mol.m-3]\"].entries * F * A * L_n / 3600\n",
    "Q_main_Cover4 = sol_Cover4_rest[\"Negative electrode volume-averaged concentration [mol.m-3]\"].entries * F * A * L_n / 3600\n",
    "Q_main_Cover8 = sol_Cover8_rest[\"Negative electrode volume-averaged concentration [mol.m-3]\"].entries * F * A * L_n / 3600\n",
    "# Plated capacity (Ah)\n",
    "Q_Li_2C = sol_2C_rest[\"Loss of capacity to lithium plating [A.h]\"].entries\n",
    "Q_Li_1C = sol_1C_rest[\"Loss of capacity to lithium plating [A.h]\"].entries\n",
    "Q_Li_Cover2 = sol_Cover2_rest[\"Loss of capacity to lithium plating [A.h]\"].entries\n",
    "Q_Li_Cover4 = sol_Cover4_rest[\"Loss of capacity to lithium plating [A.h]\"].entries\n",
    "Q_Li_Cover8 = sol_Cover8_rest[\"Loss of capacity to lithium plating [A.h]\"].entries\n",
    "# Voltage (V)\n",
    "V_2C = sol_2C_rest[\"Terminal voltage [V]\"].entries\n",
    "V_1C = sol_1C_rest[\"Terminal voltage [V]\"].entries\n",
    "V_Cover2 = sol_Cover2_rest[\"Terminal voltage [V]\"].entries\n",
    "V_Cover4 = sol_Cover4_rest[\"Terminal voltage [V]\"].entries\n",
    "V_Cover8 = sol_Cover8_rest[\"Terminal voltage [V]\"].entries\n",
    "# Dimensionless current components\n",
    "j_2C = sol_2C_rest[\"X-averaged negative electrode interfacial current density\"].entries\n",
    "j_sr_2C = sol_2C_rest[\"X-averaged lithium plating interfacial current density\"].entries\n",
    "j_sum_2C = sol_2C_rest[\"Sum of x-averaged negative electrode interfacial current densities\"].entries\n",
    "j_1C = sol_1C_rest[\"X-averaged negative electrode interfacial current density\"].entries\n",
    "j_sr_1C = sol_1C_rest[\"X-averaged lithium plating interfacial current density\"].entries\n",
    "j_sum_1C = sol_1C_rest[\"Sum of x-averaged negative electrode interfacial current densities\"].entries\n",
    "j_Cover2 = sol_Cover2_rest[\"X-averaged negative electrode interfacial current density\"].entries\n",
    "j_sr_Cover2 = sol_Cover2_rest[\"X-averaged lithium plating interfacial current density\"].entries\n",
    "j_sum_Cover2 = sol_Cover2_rest[\"Sum of x-averaged negative electrode interfacial current densities\"].entries\n",
    "j_Cover4 = sol_Cover4_rest[\"X-averaged negative electrode interfacial current density\"].entries\n",
    "j_sr_Cover4 = sol_Cover4_rest[\"X-averaged lithium plating interfacial current density\"].entries\n",
    "j_sum_Cover4 = sol_Cover4_rest[\"Sum of x-averaged negative electrode interfacial current densities\"].entries\n",
    "j_Cover8 = sol_Cover8_rest[\"X-averaged negative electrode interfacial current density\"].entries\n",
    "j_sr_Cover8 = sol_Cover8_rest[\"X-averaged lithium plating interfacial current density\"].entries\n",
    "j_sum_Cover8 = sol_Cover8_rest[\"Sum of x-averaged negative electrode interfacial current densities\"].entries"
   ]
  },
  {
   "cell_type": "code",
   "execution_count": 7,
   "metadata": {},
   "outputs": [
    {
     "ename": "NameError",
     "evalue": "name 't_2C' is not defined",
     "output_type": "error",
     "traceback": [
      "\u001b[0;31m---------------------------------------------------------------------------\u001b[0m",
      "\u001b[0;31mNameError\u001b[0m                                 Traceback (most recent call last)",
      "Input \u001b[0;32mIn [7]\u001b[0m, in \u001b[0;36m<cell line: 2>\u001b[0;34m()\u001b[0m\n\u001b[1;32m      1\u001b[0m fig, axs \u001b[38;5;241m=\u001b[39m plt\u001b[38;5;241m.\u001b[39msubplots(\u001b[38;5;241m2\u001b[39m, \u001b[38;5;241m2\u001b[39m, figsize\u001b[38;5;241m=\u001b[39m(\u001b[38;5;241m13\u001b[39m,\u001b[38;5;241m9\u001b[39m))\n\u001b[0;32m----> 2\u001b[0m axs[\u001b[38;5;241m0\u001b[39m,\u001b[38;5;241m0\u001b[39m]\u001b[38;5;241m.\u001b[39mplot(\u001b[43mt_2C\u001b[49m\u001b[38;5;241m/\u001b[39m\u001b[38;5;241m60\u001b[39m, V_2C, color\u001b[38;5;241m=\u001b[39m\u001b[38;5;124m'\u001b[39m\u001b[38;5;124mtab:purple\u001b[39m\u001b[38;5;124m'\u001b[39m, linestyle\u001b[38;5;241m=\u001b[39m\u001b[38;5;124m'\u001b[39m\u001b[38;5;124msolid\u001b[39m\u001b[38;5;124m'\u001b[39m)\n\u001b[1;32m      3\u001b[0m axs[\u001b[38;5;241m0\u001b[39m,\u001b[38;5;241m0\u001b[39m]\u001b[38;5;241m.\u001b[39mplot(t_1C\u001b[38;5;241m/\u001b[39m\u001b[38;5;241m60\u001b[39m, V_1C, color\u001b[38;5;241m=\u001b[39m\u001b[38;5;124m'\u001b[39m\u001b[38;5;124mtab:cyan\u001b[39m\u001b[38;5;124m'\u001b[39m, linestyle\u001b[38;5;241m=\u001b[39m\u001b[38;5;124m'\u001b[39m\u001b[38;5;124msolid\u001b[39m\u001b[38;5;124m'\u001b[39m)\n\u001b[1;32m      4\u001b[0m axs[\u001b[38;5;241m0\u001b[39m,\u001b[38;5;241m0\u001b[39m]\u001b[38;5;241m.\u001b[39mplot(t_Cover2\u001b[38;5;241m/\u001b[39m\u001b[38;5;241m60\u001b[39m, V_Cover2, color\u001b[38;5;241m=\u001b[39m\u001b[38;5;124m'\u001b[39m\u001b[38;5;124mtab:red\u001b[39m\u001b[38;5;124m'\u001b[39m, linestyle\u001b[38;5;241m=\u001b[39m\u001b[38;5;124m'\u001b[39m\u001b[38;5;124msolid\u001b[39m\u001b[38;5;124m'\u001b[39m)\n",
      "\u001b[0;31mNameError\u001b[0m: name 't_2C' is not defined"
     ]
    },
    {
     "data": {
      "image/png": "[encoded data removed]",
      "text/plain": [
       "<Figure size 936x648 with 4 Axes>"
      ]
     },
     "metadata": {
      "needs_background": "light"
     },
     "output_type": "display_data"
    }
   ],
   "source": [
    "fig, axs = plt.subplots(2, 2, figsize=(13,9))\n",
    "axs[0,0].plot(t_2C/60, V_2C, color='tab:purple', linestyle='solid')\n",
    "axs[0,0].plot(t_1C/60, V_1C, color='tab:cyan', linestyle='solid')\n",
    "axs[0,0].plot(t_Cover2/60, V_Cover2, color='tab:red', linestyle='solid')\n",
    "axs[0,0].plot(t_Cover4/60, V_Cover4, color='tab:green', linestyle='solid')\n",
    "axs[0,0].plot(t_Cover8/60, V_Cover8, color='tab:blue', linestyle='solid')\n",
    "axs[0,0].set_xlabel(\"Time [minutes]\")\n",
    "axs[0,0].set_ylabel(\"Voltage [V]\")\n",
    "axs[0,0].legend(('2C','1C','C/2','C/4','C/8'))\n",
    "axs[0,1].plot(t_2C/60, j_2C, color='tab:purple', linestyle='dashed')\n",
    "axs[0,1].plot(t_2C/60, j_sr_2C, color='tab:purple', linestyle='dotted')\n",
    "axs[0,1].plot(t_2C/60, j_sum_2C, color='tab:purple', linestyle='solid')\n",
    "axs[0,1].plot(t_1C/60, j_1C, color='tab:cyan', linestyle='dashed')\n",
    "axs[0,1].plot(t_1C/60, j_sr_1C, color='tab:cyan', linestyle='dotted')\n",
    "axs[0,1].plot(t_1C/60, j_sum_1C, color='tab:cyan', linestyle='solid')\n",
    "axs[0,1].plot(t_Cover2/60, j_Cover2, color='tab:red', linestyle='dashed')\n",
    "axs[0,1].plot(t_Cover2/60, j_sr_Cover2, color='tab:red', linestyle='dotted')\n",
    "axs[0,1].plot(t_Cover2/60, j_sum_Cover2, color='tab:red', linestyle='solid')\n",
    "axs[0,1].plot(t_Cover4/60, j_Cover4, color='tab:green', linestyle='dashed')\n",
    "axs[0,1].plot(t_Cover4/60, j_sr_Cover4, color='tab:green', linestyle='dotted')\n",
    "axs[0,1].plot(t_Cover4/60, j_sum_Cover4, color='tab:green', linestyle='solid')\n",
    "axs[0,1].plot(t_Cover8/60, j_Cover8, color='tab:blue', linestyle='dashed')\n",
    "axs[0,1].plot(t_Cover8/60, j_sr_Cover8, color='tab:blue', linestyle='dotted')\n",
    "axs[0,1].plot(t_Cover8/60, j_sum_Cover8, color='tab:blue', linestyle='solid')\n",
    "axs[0,1].set_xlabel(\"Time [minutes]\")\n",
    "axs[0,1].set_ylabel(\"Interfacial current density [dimensionless]\")\n",
    "axs[0,1].legend(('Deintercalation current','Stripping current','Total current'))\n",
    "axs[1,0].plot(t_2C/60, Q_Li_2C, color='tab:purple', linestyle='solid')\n",
    "axs[1,0].plot(t_1C/60, Q_Li_1C, color='tab:cyan', linestyle='solid')\n",
    "axs[1,0].plot(t_Cover2/60, Q_Li_Cover2, color='tab:red', linestyle='solid')\n",
    "axs[1,0].plot(t_Cover4/60, Q_Li_Cover4, color='tab:green', linestyle='solid')\n",
    "axs[1,0].plot(t_Cover8/60, Q_Li_Cover8, color='tab:blue', linestyle='solid')\n",
    "axs[1,0].set_xlabel(\"Time [minutes]\")\n",
    "axs[1,0].set_ylabel(\"Plated lithium capacity [Ah]\")\n",
    "axs[1,1].plot(t_2C/60, Q_main_2C, color='tab:purple', linestyle='solid')\n",
    "axs[1,1].plot(t_1C/60, Q_main_1C, color='tab:cyan', linestyle='solid')\n",
    "axs[1,1].plot(t_Cover2/60, Q_main_Cover2, color='tab:red', linestyle='solid')\n",
    "axs[1,1].plot(t_Cover4/60, Q_main_Cover4, color='tab:green', linestyle='solid')\n",
    "axs[1,1].plot(t_Cover8/60, Q_main_Cover8, color='tab:blue', linestyle='solid')\n",
    "axs[1,1].set_xlabel(\"Time [minutes]\")\n",
    "axs[1,1].set_ylabel(\"Intercalated lithium capacity [Ah]\")\n",
    "plt.tight_layout()\n",
    "plt.show()"
   ]
  },
  {
   "cell_type": "markdown",
   "metadata": {},
   "source": [
    "The results show both similarities and differences with those of Ren et al. [6]. Notably, unlike Ren et al., this model uses equations [5] that result in a small but finite amount of plated lithium being present in the steady state."
   ]
  },
  {
   "cell_type": "markdown",
   "metadata": {},
   "source": [
    "Now solve the irreversible plating model and see how it compares."
   ]
  },
  {
   "cell_type": "code",
   "execution_count": 8,
   "metadata": {},
   "outputs": [
    {
     "ename": "NameError",
     "evalue": "name 'parameter_values' is not defined",
     "output_type": "error",
     "traceback": [
      "\u001b[0;31m---------------------------------------------------------------------------\u001b[0m",
      "\u001b[0;31mNameError\u001b[0m                                 Traceback (most recent call last)",
      "Input \u001b[0;32mIn [8]\u001b[0m, in \u001b[0;36m<cell line: 1>\u001b[0;34m()\u001b[0m\n\u001b[0;32m----> 1\u001b[0m sim2_2C \u001b[38;5;241m=\u001b[39m pybamm\u001b[38;5;241m.\u001b[39mSimulation(model2, experiment\u001b[38;5;241m=\u001b[39mexperiment_2C, parameter_values\u001b[38;5;241m=\u001b[39m\u001b[43mparameter_values\u001b[49m)\n\u001b[1;32m      2\u001b[0m sim2_2C\u001b[38;5;241m.\u001b[39msolve()\n\u001b[1;32m      3\u001b[0m sim2_1C \u001b[38;5;241m=\u001b[39m pybamm\u001b[38;5;241m.\u001b[39mSimulation(model2, experiment\u001b[38;5;241m=\u001b[39mexperiment_1C, parameter_values\u001b[38;5;241m=\u001b[39mparameter_values)\n",
      "\u001b[0;31mNameError\u001b[0m: name 'parameter_values' is not defined"
     ]
    }
   ],
   "source": [
    "sim2_2C = pybamm.Simulation(model2, experiment=experiment_2C, parameter_values=parameter_values)\n",
    "sim2_2C.solve()\n",
    "sim2_1C = pybamm.Simulation(model2, experiment=experiment_1C, parameter_values=parameter_values)\n",
    "sim2_1C.solve()\n",
    "sim2_Cover2 = pybamm.Simulation(model2, experiment=experiment_Cover2, parameter_values=parameter_values)\n",
    "sim2_Cover2.solve()\n",
    "sim2_Cover4 = pybamm.Simulation(model2, experiment=experiment_Cover4, parameter_values=parameter_values)\n",
    "sim2_Cover4.solve()\n",
    "sim2_Cover8 = pybamm.Simulation(model2, experiment=experiment_Cover8, parameter_values=parameter_values)\n",
    "sim2_Cover8.solve()"
   ]
  },
  {
   "cell_type": "code",
   "execution_count": 9,
   "metadata": {},
   "outputs": [
    {
     "ename": "NameError",
     "evalue": "name 'parameter_values' is not defined",
     "output_type": "error",
     "traceback": [
      "\u001b[0;31m---------------------------------------------------------------------------\u001b[0m",
      "\u001b[0;31mNameError\u001b[0m                                 Traceback (most recent call last)",
      "Input \u001b[0;32mIn [9]\u001b[0m, in \u001b[0;36m<cell line: 2>\u001b[0;34m()\u001b[0m\n\u001b[1;32m      1\u001b[0m \u001b[38;5;66;03m# WARNING: RUNNING THIS CELL WILL OVERWRITE PREVIOUS VARIABLES (but not the raw solution data)\u001b[39;00m\n\u001b[0;32m----> 2\u001b[0m A \u001b[38;5;241m=\u001b[39m \u001b[43mparameter_values\u001b[49m\u001b[38;5;241m.\u001b[39mevaluate(model2\u001b[38;5;241m.\u001b[39mparam\u001b[38;5;241m.\u001b[39mL_y \u001b[38;5;241m*\u001b[39m model2\u001b[38;5;241m.\u001b[39mparam\u001b[38;5;241m.\u001b[39mL_z)\n\u001b[1;32m      3\u001b[0m F \u001b[38;5;241m=\u001b[39m parameter_values\u001b[38;5;241m.\u001b[39mevaluate(model2\u001b[38;5;241m.\u001b[39mparam\u001b[38;5;241m.\u001b[39mF)\n\u001b[1;32m      4\u001b[0m L_n \u001b[38;5;241m=\u001b[39m parameter_values\u001b[38;5;241m.\u001b[39mevaluate(model2\u001b[38;5;241m.\u001b[39mparam\u001b[38;5;241m.\u001b[39mL_n)\n",
      "\u001b[0;31mNameError\u001b[0m: name 'parameter_values' is not defined"
     ]
    }
   ],
   "source": [
    "# WARNING: RUNNING THIS CELL WILL OVERWRITE PREVIOUS VARIABLES (but not the raw solution data)\n",
    "A = parameter_values.evaluate(model2.param.L_y * model2.param.L_z)\n",
    "F = parameter_values.evaluate(model2.param.F)\n",
    "L_n = parameter_values.evaluate(model2.param.L_n)\n",
    "# Isolate final equilibration phase\n",
    "sol_2C_rest = sim2_2C.solution.cycles[0].steps[2]\n",
    "sol_1C_rest = sim2_1C.solution.cycles[0].steps[2]\n",
    "sol_Cover2_rest = sim2_Cover2.solution.cycles[0].steps[2]\n",
    "sol_Cover4_rest = sim2_Cover4.solution.cycles[0].steps[2]\n",
    "sol_Cover8_rest = sim2_Cover8.solution.cycles[0].steps[2]\n",
    "# Time (hours)\n",
    "t_2C = sol_2C_rest[\"Time [s]\"].entries-sol_2C_rest[\"Time [s]\"].entries[0]\n",
    "t_1C = sol_1C_rest[\"Time [s]\"].entries-sol_1C_rest[\"Time [s]\"].entries[0]\n",
    "t_Cover2 = sol_Cover2_rest[\"Time [s]\"].entries-sol_Cover2_rest[\"Time [s]\"].entries[0]\n",
    "t_Cover4 = sol_Cover4_rest[\"Time [s]\"].entries-sol_Cover4_rest[\"Time [s]\"].entries[0]\n",
    "t_Cover8 = sol_Cover8_rest[\"Time [s]\"].entries-sol_Cover8_rest[\"Time [s]\"].entries[0]\n",
    "# Intercalated capacity (Ah)\n",
    "Q_main_2C = sol_2C_rest[\"Negative electrode volume-averaged concentration [mol.m-3]\"].entries * F * A * L_n / 3600\n",
    "Q_main_1C = sol_1C_rest[\"Negative electrode volume-averaged concentration [mol.m-3]\"].entries * F * A * L_n / 3600\n",
    "Q_main_Cover2 = sol_Cover2_rest[\"Negative electrode volume-averaged concentration [mol.m-3]\"].entries * F * A * L_n / 3600\n",
    "Q_main_Cover4 = sol_Cover4_rest[\"Negative electrode volume-averaged concentration [mol.m-3]\"].entries * F * A * L_n / 3600\n",
    "Q_main_Cover8 = sol_Cover8_rest[\"Negative electrode volume-averaged concentration [mol.m-3]\"].entries * F * A * L_n / 3600\n",
    "# Plated capacity (Ah)\n",
    "Q_Li_2C = sol_2C_rest[\"Loss of capacity to lithium plating [A.h]\"].entries\n",
    "Q_Li_1C = sol_1C_rest[\"Loss of capacity to lithium plating [A.h]\"].entries\n",
    "Q_Li_Cover2 = sol_Cover2_rest[\"Loss of capacity to lithium plating [A.h]\"].entries\n",
    "Q_Li_Cover4 = sol_Cover4_rest[\"Loss of capacity to lithium plating [A.h]\"].entries\n",
    "Q_Li_Cover8 = sol_Cover8_rest[\"Loss of capacity to lithium plating [A.h]\"].entries\n",
    "# Voltage (V)\n",
    "V_2C = sol_2C_rest[\"Terminal voltage [V]\"].entries\n",
    "V_1C = sol_1C_rest[\"Terminal voltage [V]\"].entries\n",
    "V_Cover2 = sol_Cover2_rest[\"Terminal voltage [V]\"].entries\n",
    "V_Cover4 = sol_Cover4_rest[\"Terminal voltage [V]\"].entries\n",
    "V_Cover8 = sol_Cover8_rest[\"Terminal voltage [V]\"].entries\n",
    "# Dimensionless current components\n",
    "j_2C = sol_2C_rest[\"X-averaged negative electrode interfacial current density\"].entries\n",
    "j_sr_2C = sol_2C_rest[\"X-averaged lithium plating interfacial current density\"].entries\n",
    "j_sum_2C = sol_2C_rest[\"Sum of x-averaged negative electrode interfacial current densities\"].entries\n",
    "j_1C = sol_1C_rest[\"X-averaged negative electrode interfacial current density\"].entries\n",
    "j_sr_1C = sol_1C_rest[\"X-averaged lithium plating interfacial current density\"].entries\n",
    "j_sum_1C = sol_1C_rest[\"Sum of x-averaged negative electrode interfacial current densities\"].entries\n",
    "j_Cover2 = sol_Cover2_rest[\"X-averaged negative electrode interfacial current density\"].entries\n",
    "j_sr_Cover2 = sol_Cover2_rest[\"X-averaged lithium plating interfacial current density\"].entries\n",
    "j_sum_Cover2 = sol_Cover2_rest[\"Sum of x-averaged negative electrode interfacial current densities\"].entries\n",
    "j_Cover4 = sol_Cover4_rest[\"X-averaged negative electrode interfacial current density\"].entries\n",
    "j_sr_Cover4 = sol_Cover4_rest[\"X-averaged lithium plating interfacial current density\"].entries\n",
    "j_sum_Cover4 = sol_Cover4_rest[\"Sum of x-averaged negative electrode interfacial current densities\"].entries\n",
    "j_Cover8 = sol_Cover8_rest[\"X-averaged negative electrode interfacial current density\"].entries\n",
    "j_sr_Cover8 = sol_Cover8_rest[\"X-averaged lithium plating interfacial current density\"].entries\n",
    "j_sum_Cover8 = sol_Cover8_rest[\"Sum of x-averaged negative electrode interfacial current densities\"].entries"
   ]
  },
  {
   "cell_type": "code",
   "execution_count": 10,
   "metadata": {},
   "outputs": [
    {
     "ename": "NameError",
     "evalue": "name 't_2C' is not defined",
     "output_type": "error",
     "traceback": [
      "\u001b[0;31m---------------------------------------------------------------------------\u001b[0m",
      "\u001b[0;31mNameError\u001b[0m                                 Traceback (most recent call last)",
      "Input \u001b[0;32mIn [10]\u001b[0m, in \u001b[0;36m<cell line: 2>\u001b[0;34m()\u001b[0m\n\u001b[1;32m      1\u001b[0m fig, axs \u001b[38;5;241m=\u001b[39m plt\u001b[38;5;241m.\u001b[39msubplots(\u001b[38;5;241m2\u001b[39m, \u001b[38;5;241m2\u001b[39m, figsize\u001b[38;5;241m=\u001b[39m(\u001b[38;5;241m13\u001b[39m,\u001b[38;5;241m9\u001b[39m))\n\u001b[0;32m----> 2\u001b[0m axs[\u001b[38;5;241m0\u001b[39m,\u001b[38;5;241m0\u001b[39m]\u001b[38;5;241m.\u001b[39mplot(\u001b[43mt_2C\u001b[49m\u001b[38;5;241m/\u001b[39m\u001b[38;5;241m60\u001b[39m, V_2C, color\u001b[38;5;241m=\u001b[39m\u001b[38;5;124m'\u001b[39m\u001b[38;5;124mtab:purple\u001b[39m\u001b[38;5;124m'\u001b[39m, linestyle\u001b[38;5;241m=\u001b[39m\u001b[38;5;124m'\u001b[39m\u001b[38;5;124msolid\u001b[39m\u001b[38;5;124m'\u001b[39m)\n\u001b[1;32m      3\u001b[0m axs[\u001b[38;5;241m0\u001b[39m,\u001b[38;5;241m0\u001b[39m]\u001b[38;5;241m.\u001b[39mplot(t_1C\u001b[38;5;241m/\u001b[39m\u001b[38;5;241m60\u001b[39m, V_1C, color\u001b[38;5;241m=\u001b[39m\u001b[38;5;124m'\u001b[39m\u001b[38;5;124mtab:cyan\u001b[39m\u001b[38;5;124m'\u001b[39m, linestyle\u001b[38;5;241m=\u001b[39m\u001b[38;5;124m'\u001b[39m\u001b[38;5;124msolid\u001b[39m\u001b[38;5;124m'\u001b[39m)\n\u001b[1;32m      4\u001b[0m axs[\u001b[38;5;241m0\u001b[39m,\u001b[38;5;241m0\u001b[39m]\u001b[38;5;241m.\u001b[39mplot(t_Cover2\u001b[38;5;241m/\u001b[39m\u001b[38;5;241m60\u001b[39m, V_Cover2, color\u001b[38;5;241m=\u001b[39m\u001b[38;5;124m'\u001b[39m\u001b[38;5;124mtab:red\u001b[39m\u001b[38;5;124m'\u001b[39m, linestyle\u001b[38;5;241m=\u001b[39m\u001b[38;5;124m'\u001b[39m\u001b[38;5;124msolid\u001b[39m\u001b[38;5;124m'\u001b[39m)\n",
      "\u001b[0;31mNameError\u001b[0m: name 't_2C' is not defined"
     ]
    },
    {
     "data": {
      "image/png": "[encoded data removed]",
      "text/plain": [
       "<Figure size 936x648 with 4 Axes>"
      ]
     },
     "metadata": {
      "needs_background": "light"
     },
     "output_type": "display_data"
    }
   ],
   "source": [
    "fig, axs = plt.subplots(2, 2, figsize=(13,9))\n",
    "axs[0,0].plot(t_2C/60, V_2C, color='tab:purple', linestyle='solid')\n",
    "axs[0,0].plot(t_1C/60, V_1C, color='tab:cyan', linestyle='solid')\n",
    "axs[0,0].plot(t_Cover2/60, V_Cover2, color='tab:red', linestyle='solid')\n",
    "axs[0,0].plot(t_Cover4/60, V_Cover4, color='tab:green', linestyle='solid')\n",
    "axs[0,0].plot(t_Cover8/60, V_Cover8, color='tab:blue', linestyle='solid')\n",
    "axs[0,0].set_xlabel(\"Time [minutes]\")\n",
    "axs[0,0].set_ylabel(\"Voltage [V]\")\n",
    "axs[0,0].legend(('2C','1C','C/2','C/4','C/8'))\n",
    "axs[0,1].plot(t_2C/60, j_2C, color='tab:purple', linestyle='dashed')\n",
    "axs[0,1].plot(t_2C/60, j_sr_2C, color='tab:purple', linestyle='dotted')\n",
    "axs[0,1].plot(t_2C/60, j_sum_2C, color='tab:purple', linestyle='solid')\n",
    "axs[0,1].plot(t_1C/60, j_1C, color='tab:cyan', linestyle='dashed')\n",
    "axs[0,1].plot(t_1C/60, j_sr_1C, color='tab:cyan', linestyle='dotted')\n",
    "axs[0,1].plot(t_1C/60, j_sum_1C, color='tab:cyan', linestyle='solid')\n",
    "axs[0,1].plot(t_Cover2/60, j_Cover2, color='tab:red', linestyle='dashed')\n",
    "axs[0,1].plot(t_Cover2/60, j_sr_Cover2, color='tab:red', linestyle='dotted')\n",
    "axs[0,1].plot(t_Cover2/60, j_sum_Cover2, color='tab:red', linestyle='solid')\n",
    "axs[0,1].plot(t_Cover4/60, j_Cover4, color='tab:green', linestyle='dashed')\n",
    "axs[0,1].plot(t_Cover4/60, j_sr_Cover4, color='tab:green', linestyle='dotted')\n",
    "axs[0,1].plot(t_Cover4/60, j_sum_Cover4, color='tab:green', linestyle='solid')\n",
    "axs[0,1].plot(t_Cover8/60, j_Cover8, color='tab:blue', linestyle='dashed')\n",
    "axs[0,1].plot(t_Cover8/60, j_sr_Cover8, color='tab:blue', linestyle='dotted')\n",
    "axs[0,1].plot(t_Cover8/60, j_sum_Cover8, color='tab:blue', linestyle='solid')\n",
    "axs[0,1].set_xlabel(\"Time [minutes]\")\n",
    "axs[0,1].set_ylabel(\"Interfacial current density [dimensionless]\")\n",
    "axs[0,1].legend(('Deintercalation current','Stripping current','Total current'))\n",
    "axs[1,0].plot(t_2C/60, Q_Li_2C, color='tab:purple', linestyle='solid')\n",
    "axs[1,0].plot(t_1C/60, Q_Li_1C, color='tab:cyan', linestyle='solid')\n",
    "axs[1,0].plot(t_Cover2/60, Q_Li_Cover2, color='tab:red', linestyle='solid')\n",
    "axs[1,0].plot(t_Cover4/60, Q_Li_Cover4, color='tab:green', linestyle='solid')\n",
    "axs[1,0].plot(t_Cover8/60, Q_Li_Cover8, color='tab:blue', linestyle='solid')\n",
    "axs[1,0].set_xlabel(\"Time [minutes]\")\n",
    "axs[1,0].set_ylabel(\"Plated lithium capacity [Ah]\")\n",
    "axs[1,1].plot(t_2C/60, Q_main_2C, color='tab:purple', linestyle='solid')\n",
    "axs[1,1].plot(t_1C/60, Q_main_1C, color='tab:cyan', linestyle='solid')\n",
    "axs[1,1].plot(t_Cover2/60, Q_main_Cover2, color='tab:red', linestyle='solid')\n",
    "axs[1,1].plot(t_Cover4/60, Q_main_Cover4, color='tab:green', linestyle='solid')\n",
    "axs[1,1].plot(t_Cover8/60, Q_main_Cover8, color='tab:blue', linestyle='solid')\n",
    "axs[1,1].set_xlabel(\"Time [minutes]\")\n",
    "axs[1,1].set_ylabel(\"Intercalated lithium capacity [Ah]\")\n",
    "plt.tight_layout()\n",
    "plt.show()"
   ]
  },
  {
   "cell_type": "markdown",
   "metadata": {},
   "source": [
    "Unlike in the reversible case, there is no steady state and the capacity degrades over time. Perhaps not leaving the battery at 100% charge would reduce the rate of degradation..."
   ]
  },
  {
   "cell_type": "markdown",
   "metadata": {},
   "source": [
    "# References"
   ]
  },
  {
   "cell_type": "code",
   "execution_count": 11,
   "metadata": {},
   "outputs": [
    {
     "name": "stdout",
     "output_type": "stream",
     "text": [
      "[1] Joel A. E. Andersson, Joris Gillis, Greg Horn, James B. Rawlings, and Moritz Diehl. CasADi – A software framework for nonlinear optimization and optimal control. Mathematical Programming Computation, 11(1):1–36, 2019. doi:10.1007/s12532-018-0139-4.\n",
      "[2] Chang-Hui Chen, Ferran Brosa Planella, Kieran O'Regan, Dominika Gastol, W. Dhammika Widanage, and Emma Kendrick. Development of Experimental Techniques for Parameterization of Multi-scale Lithium-ion Battery Models. Journal of The Electrochemical Society, 167(8):080534, 2020. doi:10.1149/1945-7111/ab9050.\n",
      "[3] Marc Doyle, Thomas F. Fuller, and John Newman. Modeling of galvanostatic charge and discharge of the lithium/polymer/insertion cell. Journal of the Electrochemical society, 140(6):1526–1533, 1993. doi:10.1149/1.2221597.\n",
      "[4] Charles R. Harris, K. Jarrod Millman, Stéfan J. van der Walt, Ralf Gommers, Pauli Virtanen, David Cournapeau, Eric Wieser, Julian Taylor, Sebastian Berg, Nathaniel J. Smith, and others. Array programming with NumPy. Nature, 585(7825):357–362, 2020. doi:10.1038/s41586-020-2649-2.\n",
      "[5] Peyman Mohtat, Suhak Lee, Jason B Siegel, and Anna G Stefanopoulou. Towards better estimability of electrode-specific state of health: decoding the cell expansion. Journal of Power Sources, 427:101–111, 2019.\n",
      "[6] Simon E. J. O'Kane, Ian D. Campbell, Mohamed W. J. Marzook, Gregory J. Offer, and Monica Marinescu. Physical origin of the differential voltage minimum associated with lithium plating in li-ion batteries. Journal of The Electrochemical Society, 167(9):090540, may 2020. URL: https://doi.org/10.1149/1945-7111/ab90ac, doi:10.1149/1945-7111/ab90ac.\n",
      "[7] Dongsheng Ren, Kandler Smith, Dongxu Guo, Xuebing Han, Xuning Feng, Languang Lu, and Minggao Ouyang. Investigation of lithium plating-stripping process in li-ion batteries at low temperature using an electrochemical model. Journal of the Electrochemistry Society, 165:A2167-A2178, 2018. doi:10.1149/2.0661810jes.\n",
      "[8] Valentin Sulzer, Scott G. Marquis, Robert Timms, Martin Robinson, and S. Jon Chapman. Python Battery Mathematical Modelling (PyBaMM). Journal of Open Research Software, 9(1):14, 2021. doi:10.5334/jors.309.\n",
      "[9] Pauli Virtanen, Ralf Gommers, Travis E. Oliphant, Matt Haberland, Tyler Reddy, David Cournapeau, Evgeni Burovski, Pearu Peterson, Warren Weckesser, Jonathan Bright, and others. SciPy 1.0: fundamental algorithms for scientific computing in Python. Nature Methods, 17(3):261–272, 2020. doi:10.1038/s41592-019-0686-2.\n",
      "\n"
     ]
    }
   ],
   "source": [
    "pybamm.print_citations()"
   ]
  },
  {
   "cell_type": "code",
   "execution_count": null,
   "metadata": {},
   "outputs": [],
   "source": []
  }
 ],
 "metadata": {
  "kernelspec": {
   "display_name": "Python 3 (ipykernel)",
   "language": "python",
   "name": "python3"
  },
  "language_info": {
   "codemirror_mode": {
    "name": "ipython",
    "version": 3
   },
   "file_extension": ".py",
   "mimetype": "text/x-python",
   "name": "python",
   "nbconvert_exporter": "python",
   "pygments_lexer": "ipython3",
   "version": "3.9.12"
  },
  "toc": {
   "base_numbering": 1,
   "nav_menu": {},
   "number_sections": true,
   "sideBar": true,
   "skip_h1_title": false,
   "title_cell": "Table of Contents",
   "title_sidebar": "Contents",
   "toc_cell": false,
   "toc_position": {},
   "toc_section_display": true,
   "toc_window_display": true
  }
 },
 "nbformat": 4,
 "nbformat_minor": 4
}
