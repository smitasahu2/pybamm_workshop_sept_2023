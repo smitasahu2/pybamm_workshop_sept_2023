{
 "cells": [
  {
   "cell_type": "markdown",
   "id": "4b71f172",
   "metadata": {},
   "source": [
    "# Session 2\n",
    "## Example: mechanical models"
   ]
  },
  {
   "cell_type": "code",
   "execution_count": 1,
   "id": "3b5abe28",
   "metadata": {},
   "outputs": [],
   "source": [
    "import pybamm"
   ]
  },
  {
   "cell_type": "markdown",
   "id": "2b8f2134",
   "metadata": {},
   "source": [
    "You can pass multiple options to combine different effects. In this example we include thermal and mechanical effects in the DFN. The mechanical model is from the paper \"Electrochemical Thermal-Mechanical Modelling of Stress Inhomogeneity in Lithium-Ion Pouch Cells\", Ai et al, 2020. \n",
    "\n",
    "First we load the model"
   ]
  },
  {
   "cell_type": "code",
   "execution_count": 2,
   "id": "21e460aa",
   "metadata": {},
   "outputs": [],
   "source": [
    "model = pybamm.lithium_ion.DFN(\n",
    "    options = {\n",
    "        \"particle\": \"Fickian diffusion\", \n",
    "        \"thermal\": \"lumped\", \n",
    "        \"particle mechanics\": \"swelling only\",\n",
    "    }\n",
    ")"
   ]
  },
  {
   "cell_type": "markdown",
   "id": "b93564a5",
   "metadata": {},
   "source": [
    "Let's set up and solve our simulation. Note: for the mechanical parameters we need to use the Ai2020 parameter set "
   ]
  },
  {
   "cell_type": "code",
   "execution_count": 3,
   "id": "2e09b73b",
   "metadata": {},
   "outputs": [
    {
     "data": {
      "application/vnd.jupyter.widget-view+json": {
       "model_id": "ef55dde7f4f540999e2ef7f171718916",
       "version_major": 2,
       "version_minor": 0
      },
      "text/plain": [
       "interactive(children=(FloatSlider(value=0.0, description='t', max=1.0, step=0.01), Output()), _dom_classes=('w…"
      ]
     },
     "metadata": {},
     "output_type": "display_data"
    },
    {
     "data": {
      "text/plain": [
       "<pybamm.plotting.quick_plot.QuickPlot at 0x7f47a9069410>"
      ]
     },
     "execution_count": 3,
     "metadata": {},
     "output_type": "execute_result"
    }
   ],
   "source": [
    "chemistry = pybamm.parameter_sets.Ai2020\n",
    "params = pybamm.ParameterValues(chemistry=chemistry)\n",
    "\n",
    "sim = pybamm.Simulation(\n",
    "        model,\n",
    "        parameter_values=params,\n",
    ")\n",
    "sim.solve([0, 3600])\n",
    "\n",
    "sim.plot([\"Terminal voltage [V]\", \"Volume-averaged cell temperature [K]\", \"Cell thickness change [m]\"])"
   ]
  },
  {
   "cell_type": "code",
   "execution_count": null,
   "id": "d7742766",
   "metadata": {},
   "outputs": [],
   "source": []
  }
 ],
 "metadata": {
  "kernelspec": {
   "display_name": "Python 3 (ipykernel)",
   "language": "python",
   "name": "python3"
  },
  "language_info": {
   "codemirror_mode": {
    "name": "ipython",
    "version": 3
   },
   "file_extension": ".py",
   "mimetype": "text/x-python",
   "name": "python",
   "nbconvert_exporter": "python",
   "pygments_lexer": "ipython3",
   "version": "3.9.12"
  }
 },
 "nbformat": 4,
 "nbformat_minor": 5
}
