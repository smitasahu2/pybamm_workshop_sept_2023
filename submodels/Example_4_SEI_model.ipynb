{
 "cells": [
  {
   "cell_type": "markdown",
   "id": "abd6e2b4",
   "metadata": {},
   "source": [
    "# Example 4\n",
    "## SEI model"
   ]
  },
  {
   "cell_type": "markdown",
   "id": "577b1051",
   "metadata": {},
   "source": [
    "### None: \n",
    "no SEI included.\n",
    "### Constant: \n",
    "includes an SEI layer which does not grow.\n",
    "### Reaction limited: \n",
    "assumes reaction is the limiting phenomenon\n",
    "### Solvent-diffusion limited: \n",
    "assumes that solvent diffusion is the limiting phenomenon\n",
    "### Electron-migration limited: \n",
    "assumes that migration of electrons is the limiting phenomenon\n",
    "### Interstitial-diffusion limited:\n",
    "assumes that diffusion of lithium-ion intestitials is the limiting phenomenon\n",
    "### EC reaction limited: \n",
    "assumes the model is limited by both reaction and dissuions"
   ]
  },
  {
   "cell_type": "code",
   "execution_count": 1,
   "id": "bb9110ee",
   "metadata": {},
   "outputs": [],
   "source": [
    "import pybamm"
   ]
  },
  {
   "cell_type": "code",
   "execution_count": 2,
   "id": "9894026e",
   "metadata": {},
   "outputs": [],
   "source": [
    "model_SEI = pybamm.lithium_ion.DFN(\n",
    "     {\"SEI\": \"solvent-diffusion limited\",\n",
    "     \"SEI porosity change\": \"true\",\n",
    "     })"
   ]
  },
  {
   "cell_type": "code",
   "execution_count": 3,
   "id": "90ecd75c",
   "metadata": {},
   "outputs": [],
   "source": [
    "params = pybamm.ParameterValues(\"Okane2022\")\n",
    "# params[\"Outer SEI solvent diffusivity [m2.s-1]\"] = 2.5e-21\n"
   ]
  },
  {
   "cell_type": "code",
   "execution_count": 4,
   "id": "7d71e0d7",
   "metadata": {},
   "outputs": [],
   "source": [
    "n_cycle = 2\n",
    "experiment = pybamm.Experiment(\n",
    "[\n",
    "    (\"Discharge at 1C until 2.5V\",\n",
    "    \"Charge at 1C until 4.2V\"),\n",
    "]*n_cycle\n",
    ")"
   ]
  },
  {
   "cell_type": "code",
   "execution_count": 5,
   "id": "c72ab69a",
   "metadata": {},
   "outputs": [
    {
     "name": "stderr",
     "output_type": "stream",
     "text": [
      "At t = 374.528, , mxstep steps taken before reaching tout.\n",
      "At t = 436.947, , mxstep steps taken before reaching tout.\n",
      "At t = 374.689, , mxstep steps taken before reaching tout.\n"
     ]
    },
    {
     "data": {
      "application/vnd.jupyter.widget-view+json": {
       "model_id": "bfc718e31dcb46b18f3fd13d4ca04c8a",
       "version_major": 2,
       "version_minor": 0
      },
      "text/plain": [
       "interactive(children=(FloatSlider(value=0.0, description='t', max=4.820736465694922, step=0.04820736465694922)…"
      ]
     },
     "metadata": {},
     "output_type": "display_data"
    },
    {
     "data": {
      "text/plain": [
       "<pybamm.plotting.quick_plot.QuickPlot at 0x148a94670>"
      ]
     },
     "execution_count": 5,
     "metadata": {},
     "output_type": "execute_result"
    }
   ],
   "source": [
    "sim_SEI = pybamm.Simulation(model_SEI, experiment = experiment)\n",
    "sol_SEI = sim_SEI.solve()\n",
    "\n",
    "\n",
    "pybamm.dynamic_plot(\n",
    "    sol_SEI,\n",
    "    output_variables=[\n",
    "        \"Loss of capacity to SEI [A.h]\",\n",
    "        \"Total SEI thickness [m]\",\n",
    "        \"X-averaged SEI thickness [m]\",\n",
    "        \"Voltage [V]\",\n",
    "        \"Negative electrode porosity\",\n",
    "        \"X-averaged negative electrode porosity\",\n",
    "    ],\n",
    "  )"
   ]
  },
  {
   "cell_type": "markdown",
   "id": "fe1498fe",
   "metadata": {},
   "source": [
    "### Exercise\n",
    "Compare the results of the DFN model with various SEI growth submodels of your choice. Plot the relevant variables, and recall that you can find the list of variables to plot by typing model.variable_names(). What differences do you observe in the model?"
   ]
  },
  {
   "cell_type": "code",
   "execution_count": null,
   "id": "5c99121f",
   "metadata": {},
   "outputs": [],
   "source": []
  },
  {
   "cell_type": "code",
   "execution_count": null,
   "id": "09164296",
   "metadata": {},
   "outputs": [],
   "source": []
  },
  {
   "cell_type": "code",
   "execution_count": null,
   "id": "73ccd81e",
   "metadata": {},
   "outputs": [],
   "source": []
  },
  {
   "cell_type": "code",
   "execution_count": 6,
   "id": "5e02481c",
   "metadata": {},
   "outputs": [],
   "source": [
    "SEI_options = [\n",
    "    \"reaction limited\", \n",
    "    \"solvent-diffusion limited\", \n",
    "    \"interstitial-diffusion limited\"\n",
    "]\n"
   ]
  },
  {
   "cell_type": "code",
   "execution_count": 7,
   "id": "27c0a1b2",
   "metadata": {},
   "outputs": [
    {
     "data": {
      "application/vnd.jupyter.widget-view+json": {
       "model_id": "47b91b2d01564d7caf9cef02476f74a4",
       "version_major": 2,
       "version_minor": 0
      },
      "text/plain": [
       "interactive(children=(FloatSlider(value=0.0, description='t', max=1.0, step=0.01), Output()), _dom_classes=('w…"
      ]
     },
     "metadata": {},
     "output_type": "display_data"
    },
    {
     "data": {
      "text/plain": [
       "<pybamm.plotting.quick_plot.QuickPlot at 0x14a1f14f0>"
      ]
     },
     "execution_count": 7,
     "metadata": {},
     "output_type": "execute_result"
    }
   ],
   "source": [
    "solutions = []\n",
    "\n",
    "for option in SEI_options:\n",
    "\tmodel = pybamm.lithium_ion.DFN(\n",
    "        name=option, \n",
    "        options={\"SEI\": option, \"SEI porosity change\": \"true\"}\n",
    "    )\n",
    "\tsimulation = pybamm.Simulation(model)\n",
    "\tsolutions.append(simulation.solve([0, 3600]))\n",
    "\n",
    "pybamm.dynamic_plot(\n",
    "    solutions,\n",
    "    output_variables=[\n",
    "        \"Loss of capacity to SEI [A.h]\",\n",
    "        \"Total SEI thickness [m]\",\n",
    "        \"X-averaged SEI thickness [m]\",\n",
    "        \"Voltage [V]\",\n",
    "        \"Negative electrode porosity\",\n",
    "        \"X-averaged negative electrode porosity\",\n",
    "    ],\n",
    "  )"
   ]
  }
 ],
 "metadata": {
  "kernelspec": {
   "display_name": "Python 3 (ipykernel)",
   "language": "python",
   "name": "python3"
  },
  "language_info": {
   "codemirror_mode": {
    "name": "ipython",
    "version": 3
   },
   "file_extension": ".py",
   "mimetype": "text/x-python",
   "name": "python",
   "nbconvert_exporter": "python",
   "pygments_lexer": "ipython3",
   "version": "3.9.16"
  }
 },
 "nbformat": 4,
 "nbformat_minor": 5
}
