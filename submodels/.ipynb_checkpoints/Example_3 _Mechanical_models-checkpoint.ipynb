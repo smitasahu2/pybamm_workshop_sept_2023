{
 "cells": [
  {
   "cell_type": "markdown",
   "id": "5f44adf1",
   "metadata": {},
   "source": [
    "# Example 3\n",
    "\n",
    "## Mechanical Model"
   ]
  },
  {
   "cell_type": "code",
   "execution_count": 1,
   "id": "34cbf917",
   "metadata": {},
   "outputs": [
    {
     "name": "stdout",
     "output_type": "stream",
     "text": [
      "Note: you may need to restart the kernel to use updated packages.\n"
     ]
    }
   ],
   "source": [
    "%pip install pybamm -q    # install PyBaMM if it is not installed"
   ]
  },
  {
   "cell_type": "code",
   "execution_count": 2,
   "id": "4d76f6f9",
   "metadata": {},
   "outputs": [],
   "source": [
    "import pybamm"
   ]
  },
  {
   "cell_type": "markdown",
   "id": "e1f15d11",
   "metadata": {},
   "source": [
    "You can pass multiple options to combine different effects. In this example we include thermal and mechanical effects in the DFN. \n",
    "\n"
   ]
  },
  {
   "cell_type": "markdown",
   "id": "4b3e0a36",
   "metadata": {},
   "source": [
    "Reference:\n",
    "The mechanical model is from the paper \"Electrochemical Thermal-Mechanical Modelling of Stress Inhomogeneity in Lithium-Ion Pouch Cells\", Ai et al, 2020.\n"
   ]
  },
  {
   "cell_type": "code",
   "execution_count": 3,
   "id": "1930d05e",
   "metadata": {},
   "outputs": [],
   "source": [
    "params = pybamm.ParameterValues(\"Ai2020\")\n"
   ]
  },
  {
   "cell_type": "markdown",
   "id": "d01132d2",
   "metadata": {},
   "source": [
    "Lets load the model"
   ]
  },
  {
   "cell_type": "code",
   "execution_count": 4,
   "id": "72c5e087",
   "metadata": {},
   "outputs": [],
   "source": [
    "model = pybamm.lithium_ion.DFN(\n",
    "         options = {\n",
    "             \"particle\": \"Fickian diffusion\",\n",
    "             \"thermal\": \"lumped\",\n",
    "             \"particle mechanics\": \"swelling only\",\n",
    "         }\n",
    ")"
   ]
  },
  {
   "cell_type": "code",
   "execution_count": 5,
   "id": "0a8d5a25",
   "metadata": {},
   "outputs": [
    {
     "data": {
      "application/vnd.jupyter.widget-view+json": {
       "model_id": "8d41364958e04f639f7b191281988747",
       "version_major": 2,
       "version_minor": 0
      },
      "text/plain": [
       "interactive(children=(FloatSlider(value=0.0, description='t', max=1.0, step=0.01), Output()), _dom_classes=('w…"
      ]
     },
     "metadata": {},
     "output_type": "display_data"
    },
    {
     "data": {
      "text/plain": [
       "<pybamm.plotting.quick_plot.QuickPlot at 0x7f8089c64970>"
      ]
     },
     "execution_count": 5,
     "metadata": {},
     "output_type": "execute_result"
    }
   ],
   "source": [
    "sim = pybamm.Simulation(model, parameter_values = params)\n",
    "sim.solve([0,3600])\n",
    "sim.plot(\n",
    "    output_variables=[\n",
    "       \"Terminal voltage [V]\", \n",
    "        \"Volume-averaged cell temperature [K]\", \n",
    "        \"Cell thickness change [m]\"\n",
    "    ],\n",
    ")"
   ]
  },
  {
   "cell_type": "code",
   "execution_count": 6,
   "id": "64e76978",
   "metadata": {},
   "outputs": [
    {
     "data": {
      "application/vnd.jupyter.widget-view+json": {
       "model_id": "f4993c51f7cf436089dffdddcc30c2b0",
       "version_major": 2,
       "version_minor": 0
      },
      "text/plain": [
       "interactive(children=(FloatSlider(value=0.0, description='t', max=1.4409420177753558, step=0.01440942017775355…"
      ]
     },
     "metadata": {},
     "output_type": "display_data"
    },
    {
     "data": {
      "text/plain": [
       "<pybamm.plotting.quick_plot.QuickPlot at 0x7f806cb40d60>"
      ]
     },
     "execution_count": 6,
     "metadata": {},
     "output_type": "execute_result"
    }
   ],
   "source": [
    "experiment = pybamm.Experiment(\n",
    "    [\n",
    "        (\n",
    "            \"Discharge at 1C until 3.7V\",\n",
    "            \"Charge at 0.3C for 3600 seconds (3 minute period)\"\n",
    "        )\n",
    "    ]\n",
    "    * 1,\n",
    ")\n",
    "\n",
    "sim = pybamm.Simulation(model, parameter_values = params, experiment=experiment)\n",
    "sim.solve()\n",
    "sim.plot(\n",
    "    output_variables=[\n",
    "       \"Terminal voltage [V]\", \n",
    "        \"Volume-averaged cell temperature [K]\", \n",
    "        \"Cell thickness change [m]\"\n",
    "    ],\n",
    ")"
   ]
  },
  {
   "cell_type": "code",
   "execution_count": null,
   "id": "7e05d1e6",
   "metadata": {},
   "outputs": [],
   "source": []
  }
 ],
 "metadata": {
  "kernelspec": {
   "display_name": "Python 3 (ipykernel)",
   "language": "python",
   "name": "python3"
  },
  "language_info": {
   "codemirror_mode": {
    "name": "ipython",
    "version": 3
   },
   "file_extension": ".py",
   "mimetype": "text/x-python",
   "name": "python",
   "nbconvert_exporter": "python",
   "pygments_lexer": "ipython3",
   "version": "3.9.12"
  }
 },
 "nbformat": 4,
 "nbformat_minor": 5
}
