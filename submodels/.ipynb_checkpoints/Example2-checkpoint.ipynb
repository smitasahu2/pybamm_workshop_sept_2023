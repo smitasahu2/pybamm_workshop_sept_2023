{
 "cells": [
  {
   "cell_type": "markdown",
   "id": "8665d6f2",
   "metadata": {},
   "source": [
    "# Example 2: \n",
    "\n",
    "## Thermal model"
   ]
  },
  {
   "cell_type": "markdown",
   "id": "798cdc63",
   "metadata": {},
   "source": [
    "### Isothermal:\n",
    "temperature stays constant.\n",
    "### Lumped: \n",
    "the temperature is taken to be homogeneous in the battery, so only the average temperature is computed.\n",
    "### X-lumped: \n",
    "the temperature is taken to be homogeneous across the thickness of the cell, but can vary in the directions parallel to the current collectors. Need to be used in conjunction with a current collector model.\n",
    "### X-full: \n",
    "the temperature is allowed to vary across the thickness of the cell."
   ]
  },
  {
   "cell_type": "code",
   "execution_count": 27,
   "id": "b4df9c82",
   "metadata": {},
   "outputs": [],
   "source": [
    "import pybamm"
   ]
  },
  {
   "cell_type": "markdown",
   "id": "17dbeee9",
   "metadata": {},
   "source": [
    " Lets load up DFN model and DFN model with a lumped thermal model.\n",
    "  \n",
    "We can do this by passing a dictionary of options to the model when we create it. We can take a look at the documentation to see the available model options.\n",
    " "
   ]
  },
  {
   "cell_type": "code",
   "execution_count": 28,
   "id": "ea81453c",
   "metadata": {},
   "outputs": [],
   "source": [
    "DFN = pybamm.lithium_ion.DFN(name = \"DFN model\")\n",
    "\n",
    "TDFN = pybamm.lithium_ion.DFN(\n",
    "       options = {\"thermal\":\"lumped\"},\n",
    "       name = \"Lumped+DFN model\")"
   ]
  },
  {
   "cell_type": "code",
   "execution_count": 29,
   "id": "489450df",
   "metadata": {},
   "outputs": [],
   "source": [
    "models = [DFN, TDFN]\n",
    "params = pybamm.ParameterValues(\"Ai2020\")\n",
    "\n",
    "sols =[]\n",
    "\n",
    "for model in models:\n",
    "    sim = pybamm.Simulation(model, parameter_values = params)\n",
    "    sol = sim.solve([0,3600])\n",
    "    sols.append(sol)"
   ]
  },
  {
   "cell_type": "code",
   "execution_count": 30,
   "id": "4eb8f460",
   "metadata": {},
   "outputs": [
    {
     "data": {
      "application/vnd.jupyter.widget-view+json": {
       "model_id": "cbfa138f1e234e1d8a3762ba198043ed",
       "version_major": 2,
       "version_minor": 0
      },
      "text/plain": [
       "interactive(children=(FloatSlider(value=0.0, description='t', max=1.0, step=0.01), Output()), _dom_classes=('w…"
      ]
     },
     "metadata": {},
     "output_type": "display_data"
    },
    {
     "data": {
      "text/plain": [
       "<pybamm.plotting.quick_plot.QuickPlot at 0x7fa94de9d190>"
      ]
     },
     "execution_count": 30,
     "metadata": {},
     "output_type": "execute_result"
    }
   ],
   "source": [
    "pybamm.dynamic_plot(sols, [\"Terminal voltage [V]\", \"Volume-averaged cell temperature [K]\"])"
   ]
  },
  {
   "cell_type": "code",
   "execution_count": 40,
   "id": "189537ed",
   "metadata": {},
   "outputs": [],
   "source": [
    "experiment = pybamm.Experiment(\n",
    "    [\n",
    "        ( \n",
    "               \"Discharge at 1C until 3.7V\",\n",
    "               \"Charge at 0.3C for 3600 seconds\"\n",
    "        )\n",
    "    ]*2,\n",
    ")"
   ]
  },
  {
   "cell_type": "code",
   "execution_count": 41,
   "id": "25ed1fec",
   "metadata": {},
   "outputs": [
    {
     "data": {
      "application/vnd.jupyter.widget-view+json": {
       "model_id": "51416292bdc04a1da990c411e13a63bb",
       "version_major": 2,
       "version_minor": 0
      },
      "text/plain": [
       "interactive(children=(FloatSlider(value=0.0, description='t', max=2.731085438528265, step=0.02731085438528265)…"
      ]
     },
     "metadata": {},
     "output_type": "display_data"
    },
    {
     "data": {
      "text/plain": [
       "<pybamm.plotting.quick_plot.QuickPlot at 0x7fa9476710d0>"
      ]
     },
     "execution_count": 41,
     "metadata": {},
     "output_type": "execute_result"
    }
   ],
   "source": [
    "sols =[]\n",
    "\n",
    "for model in models:\n",
    "    sim = pybamm.Simulation(model, parameter_values = params, experiment = experiment)\n",
    "    sol = sim.solve()\n",
    "    sols.append(sol)\n",
    "\n",
    "pybamm.dynamic_plot(sols, [\"Terminal voltage [V]\", \"Volume-averaged cell temperature [K]\"])    "
   ]
  },
  {
   "cell_type": "markdown",
   "id": "eca98603",
   "metadata": {},
   "source": [
    "# Exercise: \n",
    "\n",
    "Compare the results of the DFN model with isothermal and x-full. Plot the relevant variables, and recall that you can find the list of variables to plot by typing model.variable_names(). What differences do you observe in the models?\n",
    "\n"
   ]
  },
  {
   "cell_type": "code",
   "execution_count": null,
   "id": "09e3c07f",
   "metadata": {},
   "outputs": [],
   "source": []
  },
  {
   "cell_type": "code",
   "execution_count": null,
   "id": "dfa1a8e6",
   "metadata": {},
   "outputs": [],
   "source": []
  },
  {
   "cell_type": "code",
   "execution_count": null,
   "id": "07c1f67f",
   "metadata": {},
   "outputs": [],
   "source": []
  },
  {
   "cell_type": "code",
   "execution_count": null,
   "id": "eeb2949f",
   "metadata": {},
   "outputs": [],
   "source": []
  },
  {
   "cell_type": "code",
   "execution_count": null,
   "id": "fdc1a04c",
   "metadata": {},
   "outputs": [],
   "source": []
  },
  {
   "cell_type": "code",
   "execution_count": 42,
   "id": "9e93d0bc",
   "metadata": {},
   "outputs": [],
   "source": [
    "thermal_options = [\"isothermal\", \"x-full\"]\n",
    "sols = []\n",
    "for option in thermal_options:\n",
    "    model = pybamm.lithium_ion.DFN(name = option, options={\"thermal\":option})\n",
    "    simulation = pybamm.Simulation(model)\n",
    "    sols.append(simulation.solve([0,3600]))\n"
   ]
  },
  {
   "cell_type": "code",
   "execution_count": 49,
   "id": "65671c92",
   "metadata": {},
   "outputs": [
    {
     "data": {
      "application/vnd.jupyter.widget-view+json": {
       "model_id": "0651094131804504b29b507f0f126f71",
       "version_major": 2,
       "version_minor": 0
      },
      "text/plain": [
       "interactive(children=(FloatSlider(value=0.0, description='t', max=1.0, step=0.01), Output()), _dom_classes=('w…"
      ]
     },
     "metadata": {},
     "output_type": "display_data"
    },
    {
     "data": {
      "text/plain": [
       "<pybamm.plotting.quick_plot.QuickPlot at 0x7fa93d350ee0>"
      ]
     },
     "execution_count": 49,
     "metadata": {},
     "output_type": "execute_result"
    }
   ],
   "source": [
    "pybamm.dynamic_plot(\n",
    "    sols,\n",
    "    output_variables=[\n",
    "        \"Negative particle surface concentration [mol.m-3]\",\n",
    "        \"Electrolyte concentration [mol.m-3]\",\n",
    "        \"Positive particle surface concentration [mol.m-3]\",\n",
    "        \"Negative electrode potential [V]\",\n",
    "        \"Electrolyte potential [V]\",\n",
    "        \"Positive electrode potential [V]\",\n",
    "        \"Current [A]\",\n",
    "        \"Voltage [V]\",\n",
    "        \"Cell temperature [K]\",\n",
    "    ],\n",
    ")"
   ]
  },
  {
   "cell_type": "markdown",
   "id": "a2f37f62",
   "metadata": {},
   "source": [
    "We observe that the temperature in the isothermal model remains constant, while for the x-full model the temperature rises almost 20 K. Despite being a spatial-dependent model, the temperature gradients are negligible, which is reasonable given how thin the cell is. We also observe that the voltage for the isothermal case is lower than for the temperature dependent one, given that at higher temperatures the overpotentials are smaller."
   ]
  },
  {
   "cell_type": "code",
   "execution_count": null,
   "id": "9817357f",
   "metadata": {},
   "outputs": [],
   "source": []
  }
 ],
 "metadata": {
  "kernelspec": {
   "display_name": "Python 3 (ipykernel)",
   "language": "python",
   "name": "python3"
  },
  "language_info": {
   "codemirror_mode": {
    "name": "ipython",
    "version": 3
   },
   "file_extension": ".py",
   "mimetype": "text/x-python",
   "name": "python",
   "nbconvert_exporter": "python",
   "pygments_lexer": "ipython3",
   "version": "3.9.12"
  }
 },
 "nbformat": 4,
 "nbformat_minor": 5
}
