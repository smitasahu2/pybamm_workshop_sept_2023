{
 "cells": [
  {
   "cell_type": "markdown",
   "id": "c06c396b",
   "metadata": {},
   "source": [
    "# 15 September 2023 "
   ]
  },
  {
   "cell_type": "markdown",
   "id": "80a0819c",
   "metadata": {},
   "source": [
    "# Models as a collection of submodels"
   ]
  },
  {
   "cell_type": "code",
   "execution_count": 1,
   "id": "b6c8c8f0",
   "metadata": {},
   "outputs": [],
   "source": [
    "import pybamm"
   ]
  },
  {
   "cell_type": "markdown",
   "id": "9262eb5b",
   "metadata": {},
   "source": [
    "Lets load up default Doyel Fuller Newman (DFN) model"
   ]
  },
  {
   "cell_type": "code",
   "execution_count": 2,
   "id": "8ed1d182",
   "metadata": {},
   "outputs": [],
   "source": [
    "DFN = pybamm.lithium_ion.DFN(name=\"DFN\")"
   ]
  },
  {
   "cell_type": "markdown",
   "id": "6c57f46c",
   "metadata": {},
   "source": [
    "Lets add some parameters"
   ]
  },
  {
   "cell_type": "code",
   "execution_count": 3,
   "id": "0fc1d700",
   "metadata": {},
   "outputs": [
    {
     "ename": "NameError",
     "evalue": "name 'params' is not defined",
     "output_type": "error",
     "traceback": [
      "\u001b[0;31m---------------------------------------------------------------------------\u001b[0m",
      "\u001b[0;31mNameError\u001b[0m                                 Traceback (most recent call last)",
      "Input \u001b[0;32mIn [3]\u001b[0m, in \u001b[0;36m<cell line: 1>\u001b[0;34m()\u001b[0m\n\u001b[0;32m----> 1\u001b[0m sim \u001b[38;5;241m=\u001b[39m pybamm\u001b[38;5;241m.\u001b[39mSimulation(DFN, parameter_values \u001b[38;5;241m=\u001b[39m \u001b[43mparams\u001b[49m)\n\u001b[1;32m      2\u001b[0m sol \u001b[38;5;241m=\u001b[39m sim\u001b[38;5;241m.\u001b[39msolve([\u001b[38;5;241m0\u001b[39m,\u001b[38;5;241m3600\u001b[39m])\n\u001b[1;32m      3\u001b[0m pybamm\u001b[38;5;241m.\u001b[39mdynamic_plot(sol)\n",
      "\u001b[0;31mNameError\u001b[0m: name 'params' is not defined"
     ]
    }
   ],
   "source": [
    "sim = pybamm.Simulation(DFN)\n",
    "sol = sim.solve([0,3600])\n",
    "pybamm.dynamic_plot(sol)"
   ]
  },
  {
   "cell_type": "code",
   "execution_count": null,
   "id": "0a0d5386",
   "metadata": {},
   "outputs": [],
   "source": [
    "DFN.submodels"
   ]
  },
  {
   "cell_type": "markdown",
   "id": "96f61806",
   "metadata": {},
   "source": [
    "This returns a dictionary of all the submodels that make up the DFN. We can see there a models for a range of different physical phenomena.\n"
   ]
  },
  {
   "cell_type": "markdown",
   "id": "7943cdf2",
   "metadata": {},
   "source": [
    "Let's take a look at the submodels that make up the SPM"
   ]
  },
  {
   "cell_type": "code",
   "execution_count": null,
   "id": "b66c37f3",
   "metadata": {},
   "outputs": [],
   "source": [
    "spm = pybamm.lithium_ion.SPM()\n",
    "spm.submodels"
   ]
  },
  {
   "cell_type": "code",
   "execution_count": null,
   "id": "f2fa5bf4",
   "metadata": {},
   "outputs": [],
   "source": [
    "print(spm.submodels[\"electrolyte diffusion\"])\n",
    "print(DFN.submodels[\"electrolyte diffusion\"])"
   ]
  },
  {
   "cell_type": "code",
   "execution_count": null,
   "id": "92a344e5",
   "metadata": {},
   "outputs": [],
   "source": [
    "models =[spm, DFN]\n",
    "sols = []\n",
    "for model in models:\n",
    "    sim = pybamm.Simulation(model)\n",
    "    sol = sim.solve([0,3600])\n",
    "    sols.append(sol)\n",
    "\n",
    "pybamm.dynamic_plot(sols, [\"Electrolyte concentration [mol.m-3]\", \"Terminal voltage [V]\"])    "
   ]
  },
  {
   "cell_type": "code",
   "execution_count": null,
   "id": "f33d9af6",
   "metadata": {},
   "outputs": [],
   "source": []
  }
 ],
 "metadata": {
  "kernelspec": {
   "display_name": "Python 3 (ipykernel)",
   "language": "python",
   "name": "python3"
  },
  "language_info": {
   "codemirror_mode": {
    "name": "ipython",
    "version": 3
   },
   "file_extension": ".py",
   "mimetype": "text/x-python",
   "name": "python",
   "nbconvert_exporter": "python",
   "pygments_lexer": "ipython3",
   "version": "3.9.12"
  }
 },
 "nbformat": 4,
 "nbformat_minor": 5
}
