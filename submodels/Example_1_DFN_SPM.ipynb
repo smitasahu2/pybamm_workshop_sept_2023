{
 "cells": [
  {
   "cell_type": "markdown",
   "id": "c06c396b",
   "metadata": {},
   "source": [
    "# 15 September 2023 "
   ]
  },
  {
   "cell_type": "markdown",
   "id": "80a0819c",
   "metadata": {},
   "source": [
    "# Models as a collection of submodels"
   ]
  },
  {
   "cell_type": "code",
   "execution_count": 1,
   "id": "b6c8c8f0",
   "metadata": {},
   "outputs": [],
   "source": [
    "import pybamm"
   ]
  },
  {
   "cell_type": "markdown",
   "id": "9262eb5b",
   "metadata": {},
   "source": [
    "Lets load up default Doyel Fuller Newman (DFN) model"
   ]
  },
  {
   "cell_type": "code",
   "execution_count": 2,
   "id": "8ed1d182",
   "metadata": {},
   "outputs": [],
   "source": [
    "DFN = pybamm.lithium_ion.DFN(name=\"DFN\")"
   ]
  },
  {
   "cell_type": "markdown",
   "id": "6c57f46c",
   "metadata": {},
   "source": [
    "Lets add some parameters"
   ]
  },
  {
   "cell_type": "code",
   "execution_count": 3,
   "id": "04f59c56",
   "metadata": {},
   "outputs": [],
   "source": [
    "params = pybamm.ParameterValues(\"Ai2020\")"
   ]
  },
  {
   "cell_type": "code",
   "execution_count": 4,
   "id": "0fc1d700",
   "metadata": {},
   "outputs": [
    {
     "data": {
      "application/vnd.jupyter.widget-view+json": {
       "model_id": "fee1ab5b7e0c4eef8e192bd3d525dfba",
       "version_major": 2,
       "version_minor": 0
      },
      "text/plain": [
       "interactive(children=(FloatSlider(value=0.0, description='t', max=1.0, step=0.01), Output()), _dom_classes=('w…"
      ]
     },
     "metadata": {},
     "output_type": "display_data"
    },
    {
     "data": {
      "text/plain": [
       "<pybamm.plotting.quick_plot.QuickPlot at 0x13f6680d0>"
      ]
     },
     "execution_count": 4,
     "metadata": {},
     "output_type": "execute_result"
    }
   ],
   "source": [
    "sim = pybamm.Simulation(DFN, parameter_values = params)\n",
    "sol = sim.solve([0,3600])\n",
    "pybamm.dynamic_plot(sol)"
   ]
  },
  {
   "cell_type": "code",
   "execution_count": 5,
   "id": "0a0d5386",
   "metadata": {},
   "outputs": [
    {
     "data": {
      "text/plain": [
       "{'external circuit': <pybamm.models.submodels.external_circuit.explicit_control_external_circuit.ExplicitCurrentControl at 0x13f0da0a0>,\n",
       " 'porosity': <pybamm.models.submodels.porosity.constant_porosity.Constant at 0x13f0da2b0>,\n",
       " 'Negative interface utilisation': <pybamm.models.submodels.interface.interface_utilisation.full_utilisation.Full at 0x13f0da430>,\n",
       " 'Positive interface utilisation': <pybamm.models.submodels.interface.interface_utilisation.full_utilisation.Full at 0x13f0da460>,\n",
       " 'negative particle mechanics': <pybamm.models.submodels.particle_mechanics.no_mechanics.NoMechanics at 0x13f0da490>,\n",
       " 'positive particle mechanics': <pybamm.models.submodels.particle_mechanics.no_mechanics.NoMechanics at 0x13f024f70>,\n",
       " 'negative primary active material': <pybamm.models.submodels.active_material.constant_active_material.Constant at 0x13f0cfee0>,\n",
       " 'positive primary active material': <pybamm.models.submodels.active_material.constant_active_material.Constant at 0x13f0cfeb0>,\n",
       " 'electrolyte transport efficiency': <pybamm.models.submodels.transport_efficiency.bruggeman_transport_efficiency.Bruggeman at 0x13f0cfc40>,\n",
       " 'electrode transport efficiency': <pybamm.models.submodels.transport_efficiency.bruggeman_transport_efficiency.Bruggeman at 0x13f0cfca0>,\n",
       " 'transverse convection': <pybamm.models.submodels.convection.transverse.no_convection.NoConvection at 0x13f0cfc10>,\n",
       " 'through-cell convection': <pybamm.models.submodels.convection.through_cell.no_convection.NoConvection at 0x13f0cf610>,\n",
       " 'negative primary open-circuit potential': <pybamm.models.submodels.interface.open_circuit_potential.single_ocp.SingleOpenCircuitPotential at 0x13f0cfa30>,\n",
       " 'positive primary open-circuit potential': <pybamm.models.submodels.interface.open_circuit_potential.single_ocp.SingleOpenCircuitPotential at 0x13f0cfac0>,\n",
       " 'negative primary interface': <pybamm.models.submodels.interface.kinetics.butler_volmer.SymmetricButlerVolmer at 0x13f0cfcd0>,\n",
       " 'positive primary interface': <pybamm.models.submodels.interface.kinetics.butler_volmer.SymmetricButlerVolmer at 0x13f0cfa60>,\n",
       " 'negative primary particle': <pybamm.models.submodels.particle.fickian_diffusion.FickianDiffusion at 0x13f0cf970>,\n",
       " 'negative primary total particle concentration': <pybamm.models.submodels.particle.total_particle_concentration.TotalConcentration at 0x13f0cf820>,\n",
       " 'positive primary particle': <pybamm.models.submodels.particle.fickian_diffusion.FickianDiffusion at 0x13f0cf940>,\n",
       " 'positive primary total particle concentration': <pybamm.models.submodels.particle.total_particle_concentration.TotalConcentration at 0x13f0cf790>,\n",
       " 'negative electrode potential': <pybamm.models.submodels.electrode.ohm.full_ohm.Full at 0x13f0cf8b0>,\n",
       " 'positive electrode potential': <pybamm.models.submodels.electrode.ohm.full_ohm.Full at 0x13f0cf700>,\n",
       " 'electrolyte diffusion': <pybamm.models.submodels.electrolyte_diffusion.full_diffusion.Full at 0x13f0cfaf0>,\n",
       " 'electrolyte conductivity': <pybamm.models.submodels.electrolyte_conductivity.full_conductivity.Full at 0x13f0cf2e0>,\n",
       " 'negative surface potential difference': <pybamm.models.submodels.electrolyte_conductivity.surface_potential_form.explicit_surface_form_conductivity.Explicit at 0x13f0cf5b0>,\n",
       " 'separator surface potential difference': <pybamm.models.submodels.electrolyte_conductivity.surface_potential_form.explicit_surface_form_conductivity.Explicit at 0x13f0cf520>,\n",
       " 'positive surface potential difference': <pybamm.models.submodels.electrolyte_conductivity.surface_potential_form.explicit_surface_form_conductivity.Explicit at 0x13f0cf490>,\n",
       " 'thermal': <pybamm.models.submodels.thermal.isothermal.Isothermal at 0x13f0cf5e0>,\n",
       " 'current collector': <pybamm.models.submodels.current_collector.homogeneous_current_collector.Uniform at 0x13f0cf460>,\n",
       " 'primary sei': <pybamm.models.submodels.interface.sei.no_sei.NoSEI at 0x13f0cf160>,\n",
       " 'primary sei on cracks': <pybamm.models.submodels.interface.sei.no_sei.NoSEI at 0x13f0cf130>,\n",
       " 'lithium plating': <pybamm.models.submodels.interface.lithium_plating.no_plating.NoPlating at 0x13f0cf250>,\n",
       " 'total interface': <pybamm.models.submodels.interface.total_interfacial_current.TotalInterfacialCurrent at 0x13f0c8f70>}"
      ]
     },
     "execution_count": 5,
     "metadata": {},
     "output_type": "execute_result"
    }
   ],
   "source": [
    "DFN.submodels"
   ]
  },
  {
   "cell_type": "markdown",
   "id": "96f61806",
   "metadata": {},
   "source": [
    "This returns a dictionary of all the submodels that make up the DFN. We can see there a models for a range of different physical phenomena.\n"
   ]
  },
  {
   "cell_type": "markdown",
   "id": "7943cdf2",
   "metadata": {},
   "source": [
    "Let's take a look at the submodels that make up the SPM"
   ]
  },
  {
   "cell_type": "code",
   "execution_count": 6,
   "id": "b66c37f3",
   "metadata": {},
   "outputs": [
    {
     "data": {
      "text/plain": [
       "{'external circuit': <pybamm.models.submodels.external_circuit.explicit_control_external_circuit.ExplicitCurrentControl at 0x141b5ca00>,\n",
       " 'porosity': <pybamm.models.submodels.porosity.constant_porosity.Constant at 0x141b5cb80>,\n",
       " 'Negative interface utilisation': <pybamm.models.submodels.interface.interface_utilisation.full_utilisation.Full at 0x141b5ccd0>,\n",
       " 'Positive interface utilisation': <pybamm.models.submodels.interface.interface_utilisation.full_utilisation.Full at 0x141b2db20>,\n",
       " 'negative particle mechanics': <pybamm.models.submodels.particle_mechanics.no_mechanics.NoMechanics at 0x141b558e0>,\n",
       " 'positive particle mechanics': <pybamm.models.submodels.particle_mechanics.no_mechanics.NoMechanics at 0x141b55f10>,\n",
       " 'negative primary active material': <pybamm.models.submodels.active_material.constant_active_material.Constant at 0x141b55970>,\n",
       " 'positive primary active material': <pybamm.models.submodels.active_material.constant_active_material.Constant at 0x141b55e80>,\n",
       " 'electrolyte transport efficiency': <pybamm.models.submodels.transport_efficiency.bruggeman_transport_efficiency.Bruggeman at 0x141b55c40>,\n",
       " 'electrode transport efficiency': <pybamm.models.submodels.transport_efficiency.bruggeman_transport_efficiency.Bruggeman at 0x141b55df0>,\n",
       " 'transverse convection': <pybamm.models.submodels.convection.transverse.no_convection.NoConvection at 0x141b55dc0>,\n",
       " 'through-cell convection': <pybamm.models.submodels.convection.through_cell.no_convection.NoConvection at 0x141b55f40>,\n",
       " 'negative primary open-circuit potential': <pybamm.models.submodels.interface.open_circuit_potential.single_ocp.SingleOpenCircuitPotential at 0x141b55a90>,\n",
       " 'positive primary open-circuit potential': <pybamm.models.submodels.interface.open_circuit_potential.single_ocp.SingleOpenCircuitPotential at 0x141b55bb0>,\n",
       " 'negative interface': <pybamm.models.submodels.interface.kinetics.inverse_kinetics.inverse_butler_volmer.InverseButlerVolmer at 0x141b55c70>,\n",
       " 'negative interface current': <pybamm.models.submodels.interface.kinetics.inverse_kinetics.inverse_butler_volmer.CurrentForInverseButlerVolmer at 0x141b55730>,\n",
       " 'positive interface': <pybamm.models.submodels.interface.kinetics.inverse_kinetics.inverse_butler_volmer.InverseButlerVolmer at 0x141b55ac0>,\n",
       " 'positive interface current': <pybamm.models.submodels.interface.kinetics.inverse_kinetics.inverse_butler_volmer.CurrentForInverseButlerVolmer at 0x141b4cfa0>,\n",
       " 'negative primary particle': <pybamm.models.submodels.particle.fickian_diffusion.FickianDiffusion at 0x141b4cf40>,\n",
       " 'negative primary total particle concentration': <pybamm.models.submodels.particle.total_particle_concentration.TotalConcentration at 0x141b4ce50>,\n",
       " 'positive primary particle': <pybamm.models.submodels.particle.fickian_diffusion.FickianDiffusion at 0x141b4cf10>,\n",
       " 'positive primary total particle concentration': <pybamm.models.submodels.particle.total_particle_concentration.TotalConcentration at 0x141b4cd90>,\n",
       " 'negative electrode potential': <pybamm.models.submodels.electrode.ohm.leading_ohm.LeadingOrder at 0x141b4cee0>,\n",
       " 'positive electrode potential': <pybamm.models.submodels.electrode.ohm.leading_ohm.LeadingOrder at 0x141b4cca0>,\n",
       " 'electrolyte diffusion': <pybamm.models.submodels.electrolyte_diffusion.constant_concentration.ConstantConcentration at 0x141b55910>,\n",
       " 'leading-order electrolyte conductivity': <pybamm.models.submodels.electrolyte_conductivity.leading_order_conductivity.LeadingOrder at 0x141b4cc70>,\n",
       " 'negative surface potential difference': <pybamm.models.submodels.electrolyte_conductivity.surface_potential_form.explicit_surface_form_conductivity.Explicit at 0x141b4cc10>,\n",
       " 'positive surface potential difference': <pybamm.models.submodels.electrolyte_conductivity.surface_potential_form.explicit_surface_form_conductivity.Explicit at 0x141b4c9d0>,\n",
       " 'thermal': <pybamm.models.submodels.thermal.isothermal.Isothermal at 0x141b4cd00>,\n",
       " 'current collector': <pybamm.models.submodels.current_collector.homogeneous_current_collector.Uniform at 0x141b4ca00>,\n",
       " 'primary sei': <pybamm.models.submodels.interface.sei.no_sei.NoSEI at 0x141b4c760>,\n",
       " 'primary sei on cracks': <pybamm.models.submodels.interface.sei.no_sei.NoSEI at 0x141b4c520>,\n",
       " 'lithium plating': <pybamm.models.submodels.interface.lithium_plating.no_plating.NoPlating at 0x141b4c7c0>,\n",
       " 'total interface': <pybamm.models.submodels.interface.total_interfacial_current.TotalInterfacialCurrent at 0x141b4c2e0>}"
      ]
     },
     "execution_count": 6,
     "metadata": {},
     "output_type": "execute_result"
    }
   ],
   "source": [
    "spm = pybamm.lithium_ion.SPM()\n",
    "spm.submodels"
   ]
  },
  {
   "cell_type": "code",
   "execution_count": 7,
   "id": "f2fa5bf4",
   "metadata": {},
   "outputs": [
    {
     "name": "stdout",
     "output_type": "stream",
     "text": [
      "<pybamm.models.submodels.electrolyte_diffusion.constant_concentration.ConstantConcentration object at 0x141b55910>\n",
      "<pybamm.models.submodels.electrolyte_diffusion.full_diffusion.Full object at 0x13f0cfaf0>\n"
     ]
    }
   ],
   "source": [
    "print(spm.submodels[\"electrolyte diffusion\"])\n",
    "print(DFN.submodels[\"electrolyte diffusion\"])"
   ]
  },
  {
   "cell_type": "code",
   "execution_count": 8,
   "id": "92a344e5",
   "metadata": {},
   "outputs": [
    {
     "data": {
      "application/vnd.jupyter.widget-view+json": {
       "model_id": "63dc4aeadad74cee91e6e22d42ccf1d0",
       "version_major": 2,
       "version_minor": 0
      },
      "text/plain": [
       "interactive(children=(FloatSlider(value=0.0, description='t', max=1.0, step=0.01), Output()), _dom_classes=('w…"
      ]
     },
     "metadata": {},
     "output_type": "display_data"
    },
    {
     "data": {
      "text/plain": [
       "<pybamm.plotting.quick_plot.QuickPlot at 0x141c2e2b0>"
      ]
     },
     "execution_count": 8,
     "metadata": {},
     "output_type": "execute_result"
    }
   ],
   "source": [
    "models =[spm, DFN]\n",
    "sols = []\n",
    "for model in models:\n",
    "    sim = pybamm.Simulation(model)\n",
    "    sol = sim.solve([0,3600])\n",
    "    sols.append(sol)\n",
    "\n",
    "pybamm.dynamic_plot(sols, [\"Electrolyte concentration [mol.m-3]\", \"Terminal voltage [V]\"])    "
   ]
  },
  {
   "cell_type": "code",
   "execution_count": null,
   "id": "f33d9af6",
   "metadata": {},
   "outputs": [],
   "source": []
  }
 ],
 "metadata": {
  "kernelspec": {
   "display_name": "env",
   "language": "python",
   "name": "python3"
  },
  "language_info": {
   "codemirror_mode": {
    "name": "ipython",
    "version": 3
   },
   "file_extension": ".py",
   "mimetype": "text/x-python",
   "name": "python",
   "nbconvert_exporter": "python",
   "pygments_lexer": "ipython3",
   "version": "3.9.16"
  }
 },
 "nbformat": 4,
 "nbformat_minor": 5
}
