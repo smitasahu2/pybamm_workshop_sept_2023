{
 "cells": [
  {
   "cell_type": "markdown",
   "id": "c06c396b",
   "metadata": {},
   "source": [
    "# 15 September 2023 "
   ]
  },
  {
   "cell_type": "markdown",
   "id": "80a0819c",
   "metadata": {},
   "source": [
    "# Models as a collection of submodels"
   ]
  },
  {
   "cell_type": "code",
   "execution_count": 1,
   "id": "b6c8c8f0",
   "metadata": {},
   "outputs": [],
   "source": [
    "import pybamm"
   ]
  },
  {
   "cell_type": "markdown",
   "id": "9262eb5b",
   "metadata": {},
   "source": [
    "Lets load up default Doyel Fuller Newman (DFN) model"
   ]
  },
  {
   "cell_type": "code",
   "execution_count": 2,
   "id": "8ed1d182",
   "metadata": {},
   "outputs": [],
   "source": [
    "DFN = pybamm.lithium_ion.DFN(name=\"DFN\")"
   ]
  },
  {
   "cell_type": "markdown",
   "id": "6c57f46c",
   "metadata": {},
   "source": [
    "Lets add some parameters"
   ]
  },
  {
   "cell_type": "code",
   "execution_count": 3,
   "id": "0fc1d700",
   "metadata": {},
   "outputs": [
    {
     "data": {
      "application/vnd.jupyter.widget-view+json": {
       "model_id": "86d3d83e560941b1a9e2318c81766c90",
       "version_major": 2,
       "version_minor": 0
      },
      "text/plain": [
       "interactive(children=(FloatSlider(value=0.0, description='t', max=1.0, step=0.01), Output()), _dom_classes=('w…"
      ]
     },
     "metadata": {},
     "output_type": "display_data"
    },
    {
     "data": {
      "text/plain": [
       "<pybamm.plotting.quick_plot.QuickPlot at 0x7ff54e2a4d90>"
      ]
     },
     "execution_count": 3,
     "metadata": {},
     "output_type": "execute_result"
    }
   ],
   "source": [
    "sim = pybamm.Simulation(DFN)\n",
    "sol = sim.solve([0,3600])\n",
    "pybamm.dynamic_plot(sol)"
   ]
  },
  {
   "cell_type": "code",
   "execution_count": 4,
   "id": "0a0d5386",
   "metadata": {},
   "outputs": [
    {
     "data": {
      "text/plain": [
       "{'external circuit': <pybamm.models.submodels.external_circuit.explicit_control_external_circuit.ExplicitCurrentControl at 0x7ff54e17ff70>,\n",
       " 'porosity': <pybamm.models.submodels.porosity.constant_porosity.Constant at 0x7ff54e187040>,\n",
       " 'Negative interface utilisation': <pybamm.models.submodels.interface.interface_utilisation.full_utilisation.Full at 0x7ff54e187340>,\n",
       " 'Positive interface utilisation': <pybamm.models.submodels.interface.interface_utilisation.full_utilisation.Full at 0x7ff54e187280>,\n",
       " 'negative particle mechanics': <pybamm.models.submodels.particle_mechanics.no_mechanics.NoMechanics at 0x7ff54e1873a0>,\n",
       " 'positive particle mechanics': <pybamm.models.submodels.particle_mechanics.no_mechanics.NoMechanics at 0x7ff54e187400>,\n",
       " 'negative primary active material': <pybamm.models.submodels.active_material.constant_active_material.Constant at 0x7ff54e1871c0>,\n",
       " 'positive primary active material': <pybamm.models.submodels.active_material.constant_active_material.Constant at 0x7ff54e187430>,\n",
       " 'electrolyte transport efficiency': <pybamm.models.submodels.transport_efficiency.bruggeman_transport_efficiency.Bruggeman at 0x7ff54e187220>,\n",
       " 'electrode transport efficiency': <pybamm.models.submodels.transport_efficiency.bruggeman_transport_efficiency.Bruggeman at 0x7ff54e187490>,\n",
       " 'transverse convection': <pybamm.models.submodels.convection.transverse.no_convection.NoConvection at 0x7ff54e1874c0>,\n",
       " 'through-cell convection': <pybamm.models.submodels.convection.through_cell.no_convection.NoConvection at 0x7ff54e1873d0>,\n",
       " 'negative primary open-circuit potential': <pybamm.models.submodels.interface.open_circuit_potential.single_ocp.SingleOpenCircuitPotential at 0x7ff54e17f970>,\n",
       " 'positive primary open-circuit potential': <pybamm.models.submodels.interface.open_circuit_potential.single_ocp.SingleOpenCircuitPotential at 0x7ff54e17fe80>,\n",
       " 'negative primary interface': <pybamm.models.submodels.interface.kinetics.butler_volmer.SymmetricButlerVolmer at 0x7ff54e17fd30>,\n",
       " 'positive primary interface': <pybamm.models.submodels.interface.kinetics.butler_volmer.SymmetricButlerVolmer at 0x7ff54e17ffd0>,\n",
       " 'negative primary particle': <pybamm.models.submodels.particle.fickian_diffusion.FickianDiffusion at 0x7ff54e17f5e0>,\n",
       " 'negative primary total particle concentration': <pybamm.models.submodels.particle.total_particle_concentration.TotalConcentration at 0x7ff54e17fb80>,\n",
       " 'positive primary particle': <pybamm.models.submodels.particle.fickian_diffusion.FickianDiffusion at 0x7ff54e17fd90>,\n",
       " 'positive primary total particle concentration': <pybamm.models.submodels.particle.total_particle_concentration.TotalConcentration at 0x7ff54e17fc10>,\n",
       " 'negative electrode potential': <pybamm.models.submodels.electrode.ohm.full_ohm.Full at 0x7ff54e17fc70>,\n",
       " 'positive electrode potential': <pybamm.models.submodels.electrode.ohm.full_ohm.Full at 0x7ff54e17fb20>,\n",
       " 'electrolyte diffusion': <pybamm.models.submodels.electrolyte_diffusion.full_diffusion.Full at 0x7ff54e1484f0>,\n",
       " 'electrolyte conductivity': <pybamm.models.submodels.electrolyte_conductivity.full_conductivity.Full at 0x7ff54e17f8b0>,\n",
       " 'negative surface potential difference': <pybamm.models.submodels.electrolyte_conductivity.surface_potential_form.explicit_surface_form_conductivity.Explicit at 0x7ff54e17fa30>,\n",
       " 'separator surface potential difference': <pybamm.models.submodels.electrolyte_conductivity.surface_potential_form.explicit_surface_form_conductivity.Explicit at 0x7ff54e17f940>,\n",
       " 'positive surface potential difference': <pybamm.models.submodels.electrolyte_conductivity.surface_potential_form.explicit_surface_form_conductivity.Explicit at 0x7ff54e17f220>,\n",
       " 'thermal': <pybamm.models.submodels.thermal.isothermal.Isothermal at 0x7ff54e17f9a0>,\n",
       " 'current collector': <pybamm.models.submodels.current_collector.homogeneous_current_collector.Uniform at 0x7ff54e17f820>,\n",
       " 'primary sei': <pybamm.models.submodels.interface.sei.no_sei.NoSEI at 0x7ff54e17f640>,\n",
       " 'primary sei on cracks': <pybamm.models.submodels.interface.sei.no_sei.NoSEI at 0x7ff54e17f610>,\n",
       " 'lithium plating': <pybamm.models.submodels.interface.lithium_plating.no_plating.NoPlating at 0x7ff54e17f760>,\n",
       " 'total interface': <pybamm.models.submodels.interface.total_interfacial_current.TotalInterfacialCurrent at 0x7ff54e17f490>}"
      ]
     },
     "execution_count": 4,
     "metadata": {},
     "output_type": "execute_result"
    }
   ],
   "source": [
    "DFN.submodels"
   ]
  },
  {
   "cell_type": "markdown",
   "id": "96f61806",
   "metadata": {},
   "source": [
    "This returns a dictionary of all the submodels that make up the DFN. We can see there a models for a range of different physical phenomena.\n"
   ]
  },
  {
   "cell_type": "markdown",
   "id": "7943cdf2",
   "metadata": {},
   "source": [
    "Let's take a look at the submodels that make up the SPM"
   ]
  },
  {
   "cell_type": "code",
   "execution_count": 5,
   "id": "b66c37f3",
   "metadata": {},
   "outputs": [
    {
     "data": {
      "text/plain": [
       "{'external circuit': <pybamm.models.submodels.external_circuit.explicit_control_external_circuit.ExplicitCurrentControl at 0x7ff5503264f0>,\n",
       " 'porosity': <pybamm.models.submodels.porosity.constant_porosity.Constant at 0x7ff550326580>,\n",
       " 'Negative interface utilisation': <pybamm.models.submodels.interface.interface_utilisation.full_utilisation.Full at 0x7ff5503267c0>,\n",
       " 'Positive interface utilisation': <pybamm.models.submodels.interface.interface_utilisation.full_utilisation.Full at 0x7ff550326730>,\n",
       " 'negative particle mechanics': <pybamm.models.submodels.particle_mechanics.no_mechanics.NoMechanics at 0x7ff550326820>,\n",
       " 'positive particle mechanics': <pybamm.models.submodels.particle_mechanics.no_mechanics.NoMechanics at 0x7ff550326880>,\n",
       " 'negative primary active material': <pybamm.models.submodels.active_material.constant_active_material.Constant at 0x7ff5503265e0>,\n",
       " 'positive primary active material': <pybamm.models.submodels.active_material.constant_active_material.Constant at 0x7ff5503268b0>,\n",
       " 'electrolyte transport efficiency': <pybamm.models.submodels.transport_efficiency.bruggeman_transport_efficiency.Bruggeman at 0x7ff5503266d0>,\n",
       " 'electrode transport efficiency': <pybamm.models.submodels.transport_efficiency.bruggeman_transport_efficiency.Bruggeman at 0x7ff5503268e0>,\n",
       " 'transverse convection': <pybamm.models.submodels.convection.transverse.no_convection.NoConvection at 0x7ff550326910>,\n",
       " 'through-cell convection': <pybamm.models.submodels.convection.through_cell.no_convection.NoConvection at 0x7ff550326850>,\n",
       " 'negative primary open-circuit potential': <pybamm.models.submodels.interface.open_circuit_potential.single_ocp.SingleOpenCircuitPotential at 0x7ff5503269d0>,\n",
       " 'positive primary open-circuit potential': <pybamm.models.submodels.interface.open_circuit_potential.single_ocp.SingleOpenCircuitPotential at 0x7ff550326970>,\n",
       " 'negative interface': <pybamm.models.submodels.interface.kinetics.inverse_kinetics.inverse_butler_volmer.InverseButlerVolmer at 0x7ff550326940>,\n",
       " 'negative interface current': <pybamm.models.submodels.interface.kinetics.inverse_kinetics.inverse_butler_volmer.CurrentForInverseButlerVolmer at 0x7ff550326a60>,\n",
       " 'positive interface': <pybamm.models.submodels.interface.kinetics.inverse_kinetics.inverse_butler_volmer.InverseButlerVolmer at 0x7ff550326a90>,\n",
       " 'positive interface current': <pybamm.models.submodels.interface.kinetics.inverse_kinetics.inverse_butler_volmer.CurrentForInverseButlerVolmer at 0x7ff550326a30>,\n",
       " 'negative primary particle': <pybamm.models.submodels.particle.fickian_diffusion.FickianDiffusion at 0x7ff550326ac0>,\n",
       " 'negative primary total particle concentration': <pybamm.models.submodels.particle.total_particle_concentration.TotalConcentration at 0x7ff550326af0>,\n",
       " 'positive primary particle': <pybamm.models.submodels.particle.fickian_diffusion.FickianDiffusion at 0x7ff5503269a0>,\n",
       " 'positive primary total particle concentration': <pybamm.models.submodels.particle.total_particle_concentration.TotalConcentration at 0x7ff550326b50>,\n",
       " 'negative electrode potential': <pybamm.models.submodels.electrode.ohm.leading_ohm.LeadingOrder at 0x7ff550326b20>,\n",
       " 'positive electrode potential': <pybamm.models.submodels.electrode.ohm.leading_ohm.LeadingOrder at 0x7ff550326b80>,\n",
       " 'electrolyte diffusion': <pybamm.models.submodels.electrolyte_diffusion.constant_concentration.ConstantConcentration at 0x7ff54fd74760>,\n",
       " 'leading-order electrolyte conductivity': <pybamm.models.submodels.electrolyte_conductivity.leading_order_conductivity.LeadingOrder at 0x7ff54e133fa0>,\n",
       " 'negative surface potential difference': <pybamm.models.submodels.electrolyte_conductivity.surface_potential_form.explicit_surface_form_conductivity.Explicit at 0x7ff55031fe80>,\n",
       " 'positive surface potential difference': <pybamm.models.submodels.electrolyte_conductivity.surface_potential_form.explicit_surface_form_conductivity.Explicit at 0x7ff55031ff70>,\n",
       " 'thermal': <pybamm.models.submodels.thermal.isothermal.Isothermal at 0x7ff55031fbb0>,\n",
       " 'current collector': <pybamm.models.submodels.current_collector.homogeneous_current_collector.Uniform at 0x7ff55031ffd0>,\n",
       " 'primary sei': <pybamm.models.submodels.interface.sei.no_sei.NoSEI at 0x7ff55031fdf0>,\n",
       " 'primary sei on cracks': <pybamm.models.submodels.interface.sei.no_sei.NoSEI at 0x7ff55031fd30>,\n",
       " 'lithium plating': <pybamm.models.submodels.interface.lithium_plating.no_plating.NoPlating at 0x7ff55031f7f0>,\n",
       " 'total interface': <pybamm.models.submodels.interface.total_interfacial_current.TotalInterfacialCurrent at 0x7ff55031fc40>}"
      ]
     },
     "execution_count": 5,
     "metadata": {},
     "output_type": "execute_result"
    }
   ],
   "source": [
    "spm = pybamm.lithium_ion.SPM()\n",
    "spm.submodels"
   ]
  },
  {
   "cell_type": "code",
   "execution_count": 6,
   "id": "f2fa5bf4",
   "metadata": {},
   "outputs": [
    {
     "name": "stdout",
     "output_type": "stream",
     "text": [
      "<pybamm.models.submodels.electrolyte_diffusion.constant_concentration.ConstantConcentration object at 0x7ff54fd74760>\n",
      "<pybamm.models.submodels.electrolyte_diffusion.full_diffusion.Full object at 0x7ff54e1484f0>\n"
     ]
    }
   ],
   "source": [
    "print(spm.submodels[\"electrolyte diffusion\"])\n",
    "print(DFN.submodels[\"electrolyte diffusion\"])"
   ]
  },
  {
   "cell_type": "code",
   "execution_count": 7,
   "id": "92a344e5",
   "metadata": {},
   "outputs": [
    {
     "data": {
      "application/vnd.jupyter.widget-view+json": {
       "model_id": "80274f1f84a245ee962c9100028da36d",
       "version_major": 2,
       "version_minor": 0
      },
      "text/plain": [
       "interactive(children=(FloatSlider(value=0.0, description='t', max=1.0, step=0.01), Output()), _dom_classes=('w…"
      ]
     },
     "metadata": {},
     "output_type": "display_data"
    },
    {
     "data": {
      "text/plain": [
       "<pybamm.plotting.quick_plot.QuickPlot at 0x7ff5503f69a0>"
      ]
     },
     "execution_count": 7,
     "metadata": {},
     "output_type": "execute_result"
    }
   ],
   "source": [
    "models =[spm, DFN]\n",
    "sols = []\n",
    "for model in models:\n",
    "    sim = pybamm.Simulation(model)\n",
    "    sol = sim.solve([0,3600])\n",
    "    sols.append(sol)\n",
    "\n",
    "pybamm.dynamic_plot(sols, [\"Electrolyte concentration [mol.m-3]\", \"Terminal voltage [V]\"])    "
   ]
  },
  {
   "cell_type": "code",
   "execution_count": null,
   "id": "f33d9af6",
   "metadata": {},
   "outputs": [],
   "source": []
  }
 ],
 "metadata": {
  "kernelspec": {
   "display_name": "Python 3 (ipykernel)",
   "language": "python",
   "name": "python3"
  },
  "language_info": {
   "codemirror_mode": {
    "name": "ipython",
    "version": 3
   },
   "file_extension": ".py",
   "mimetype": "text/x-python",
   "name": "python",
   "nbconvert_exporter": "python",
   "pygments_lexer": "ipython3",
   "version": "3.9.12"
  }
 },
 "nbformat": 4,
 "nbformat_minor": 5
}
