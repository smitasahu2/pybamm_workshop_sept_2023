{
 "cells": [
  {
   "cell_type": "markdown",
   "id": "c06c396b",
   "metadata": {},
   "source": [
    "# 15 September 2023 "
   ]
  },
  {
   "cell_type": "markdown",
   "id": "80a0819c",
   "metadata": {},
   "source": [
    "# Models as a collection of submodels"
   ]
  },
  {
   "cell_type": "code",
   "execution_count": 1,
   "id": "84af1950",
   "metadata": {},
   "outputs": [
    {
     "name": "stdout",
     "output_type": "stream",
     "text": [
      "Note: you may need to restart the kernel to use updated packages.\n"
     ]
    }
   ],
   "source": [
    "%pip install pybamm -q    # install PyBaMM if it is not installed"
   ]
  },
  {
   "cell_type": "code",
   "execution_count": 2,
   "id": "b6c8c8f0",
   "metadata": {},
   "outputs": [],
   "source": [
    "import pybamm"
   ]
  },
  {
   "cell_type": "markdown",
   "id": "9262eb5b",
   "metadata": {},
   "source": [
    "Lets load up default Doyel Fuller Newman (DFN) model"
   ]
  },
  {
   "cell_type": "code",
   "execution_count": 3,
   "id": "8ed1d182",
   "metadata": {},
   "outputs": [],
   "source": [
    "DFN = pybamm.lithium_ion.DFN(name=\"DFN\")"
   ]
  },
  {
   "cell_type": "markdown",
   "id": "6c57f46c",
   "metadata": {},
   "source": [
    "Lets add some parameters"
   ]
  },
  {
   "cell_type": "code",
   "execution_count": 4,
   "id": "04f59c56",
   "metadata": {},
   "outputs": [],
   "source": [
    "params = pybamm.ParameterValues(\"Ai2020\")"
   ]
  },
  {
   "cell_type": "code",
   "execution_count": 5,
   "id": "0fc1d700",
   "metadata": {},
   "outputs": [
    {
     "data": {
      "application/vnd.jupyter.widget-view+json": {
       "model_id": "f1618d30400a4a7e9542e7665e68cef0",
       "version_major": 2,
       "version_minor": 0
      },
      "text/plain": [
       "interactive(children=(FloatSlider(value=0.0, description='t', max=1.0, step=0.01), Output()), _dom_classes=('w…"
      ]
     },
     "metadata": {},
     "output_type": "display_data"
    },
    {
     "data": {
      "text/plain": [
       "<pybamm.plotting.quick_plot.QuickPlot at 0x7fe6d554af10>"
      ]
     },
     "execution_count": 5,
     "metadata": {},
     "output_type": "execute_result"
    }
   ],
   "source": [
    "sim = pybamm.Simulation(DFN, parameter_values = params)\n",
    "sol = sim.solve([0,3600])\n",
    "pybamm.dynamic_plot(sol)"
   ]
  },
  {
   "cell_type": "code",
   "execution_count": 6,
   "id": "0a0d5386",
   "metadata": {},
   "outputs": [
    {
     "data": {
      "text/plain": [
       "{'external circuit': <pybamm.models.submodels.external_circuit.explicit_control_external_circuit.ExplicitCurrentControl at 0x7fe6d540b760>,\n",
       " 'porosity': <pybamm.models.submodels.porosity.constant_porosity.Constant at 0x7fe6d540b7f0>,\n",
       " 'Negative interface utilisation': <pybamm.models.submodels.interface.interface_utilisation.full_utilisation.Full at 0x7fe6d540baf0>,\n",
       " 'Positive interface utilisation': <pybamm.models.submodels.interface.interface_utilisation.full_utilisation.Full at 0x7fe6d540ba30>,\n",
       " 'negative particle mechanics': <pybamm.models.submodels.particle_mechanics.no_mechanics.NoMechanics at 0x7fe6d540bb50>,\n",
       " 'positive particle mechanics': <pybamm.models.submodels.particle_mechanics.no_mechanics.NoMechanics at 0x7fe6d540bbb0>,\n",
       " 'negative primary active material': <pybamm.models.submodels.active_material.constant_active_material.Constant at 0x7fe6d5405970>,\n",
       " 'positive primary active material': <pybamm.models.submodels.active_material.constant_active_material.Constant at 0x7fe6d5405f10>,\n",
       " 'electrolyte transport efficiency': <pybamm.models.submodels.transport_efficiency.bruggeman_transport_efficiency.Bruggeman at 0x7fe6d53ceb50>,\n",
       " 'electrode transport efficiency': <pybamm.models.submodels.transport_efficiency.bruggeman_transport_efficiency.Bruggeman at 0x7fe6d5405f40>,\n",
       " 'transverse convection': <pybamm.models.submodels.convection.transverse.no_convection.NoConvection at 0x7fe6d5405e80>,\n",
       " 'through-cell convection': <pybamm.models.submodels.convection.through_cell.no_convection.NoConvection at 0x7fe6d54055e0>,\n",
       " 'negative primary open-circuit potential': <pybamm.models.submodels.interface.open_circuit_potential.single_ocp.SingleOpenCircuitPotential at 0x7fe6d5405cd0>,\n",
       " 'positive primary open-circuit potential': <pybamm.models.submodels.interface.open_circuit_potential.single_ocp.SingleOpenCircuitPotential at 0x7fe6d5405dc0>,\n",
       " 'negative primary interface': <pybamm.models.submodels.interface.kinetics.butler_volmer.SymmetricButlerVolmer at 0x7fe6d5405d90>,\n",
       " 'positive primary interface': <pybamm.models.submodels.interface.kinetics.butler_volmer.SymmetricButlerVolmer at 0x7fe6d5405d00>,\n",
       " 'negative primary particle': <pybamm.models.submodels.particle.fickian_diffusion.FickianDiffusion at 0x7fe6d5405b80>,\n",
       " 'negative primary total particle concentration': <pybamm.models.submodels.particle.total_particle_concentration.TotalConcentration at 0x7fe6d5405a60>,\n",
       " 'positive primary particle': <pybamm.models.submodels.particle.fickian_diffusion.FickianDiffusion at 0x7fe6d5405bb0>,\n",
       " 'positive primary total particle concentration': <pybamm.models.submodels.particle.total_particle_concentration.TotalConcentration at 0x7fe6d5405a30>,\n",
       " 'negative electrode potential': <pybamm.models.submodels.electrode.ohm.full_ohm.Full at 0x7fe6d5405af0>,\n",
       " 'positive electrode potential': <pybamm.models.submodels.electrode.ohm.full_ohm.Full at 0x7fe6d54058b0>,\n",
       " 'electrolyte diffusion': <pybamm.models.submodels.electrolyte_diffusion.full_diffusion.Full at 0x7fe6d5405550>,\n",
       " 'electrolyte conductivity': <pybamm.models.submodels.electrolyte_conductivity.full_conductivity.Full at 0x7fe6d5405820>,\n",
       " 'negative surface potential difference': <pybamm.models.submodels.electrolyte_conductivity.surface_potential_form.explicit_surface_form_conductivity.Explicit at 0x7fe6d5405700>,\n",
       " 'separator surface potential difference': <pybamm.models.submodels.electrolyte_conductivity.surface_potential_form.explicit_surface_form_conductivity.Explicit at 0x7fe6d5405580>,\n",
       " 'positive surface potential difference': <pybamm.models.submodels.electrolyte_conductivity.surface_potential_form.explicit_surface_form_conductivity.Explicit at 0x7fe6d54053a0>,\n",
       " 'thermal': <pybamm.models.submodels.thermal.isothermal.Isothermal at 0x7fe6d5405730>,\n",
       " 'current collector': <pybamm.models.submodels.current_collector.homogeneous_current_collector.Uniform at 0x7fe6d53fcca0>,\n",
       " 'primary sei': <pybamm.models.submodels.interface.sei.no_sei.NoSEI at 0x7fe6d53fcb50>,\n",
       " 'primary sei on cracks': <pybamm.models.submodels.interface.sei.no_sei.NoSEI at 0x7fe6d53fcaf0>,\n",
       " 'lithium plating': <pybamm.models.submodels.interface.lithium_plating.no_plating.NoPlating at 0x7fe6d53fcc40>,\n",
       " 'total interface': <pybamm.models.submodels.interface.total_interfacial_current.TotalInterfacialCurrent at 0x7fe6d53fc970>}"
      ]
     },
     "execution_count": 6,
     "metadata": {},
     "output_type": "execute_result"
    }
   ],
   "source": [
    "DFN.submodels"
   ]
  },
  {
   "cell_type": "markdown",
   "id": "96f61806",
   "metadata": {},
   "source": [
    "This returns a dictionary of all the submodels that make up the DFN. We can see there a models for a range of different physical phenomena.\n"
   ]
  },
  {
   "cell_type": "markdown",
   "id": "7943cdf2",
   "metadata": {},
   "source": [
    "Let's take a look at the submodels that make up the SPM"
   ]
  },
  {
   "cell_type": "code",
   "execution_count": 7,
   "id": "b66c37f3",
   "metadata": {},
   "outputs": [
    {
     "data": {
      "text/plain": [
       "{'external circuit': <pybamm.models.submodels.external_circuit.explicit_control_external_circuit.ExplicitCurrentControl at 0x7fe6b6c449d0>,\n",
       " 'porosity': <pybamm.models.submodels.porosity.constant_porosity.Constant at 0x7fe6b6c44a60>,\n",
       " 'Negative interface utilisation': <pybamm.models.submodels.interface.interface_utilisation.full_utilisation.Full at 0x7fe6b6c44ca0>,\n",
       " 'Positive interface utilisation': <pybamm.models.submodels.interface.interface_utilisation.full_utilisation.Full at 0x7fe6b6c44c10>,\n",
       " 'negative particle mechanics': <pybamm.models.submodels.particle_mechanics.no_mechanics.NoMechanics at 0x7fe6b6c44d00>,\n",
       " 'positive particle mechanics': <pybamm.models.submodels.particle_mechanics.no_mechanics.NoMechanics at 0x7fe6b6c44d60>,\n",
       " 'negative primary active material': <pybamm.models.submodels.active_material.constant_active_material.Constant at 0x7fe6b6c44b20>,\n",
       " 'positive primary active material': <pybamm.models.submodels.active_material.constant_active_material.Constant at 0x7fe6b6c44d90>,\n",
       " 'electrolyte transport efficiency': <pybamm.models.submodels.transport_efficiency.bruggeman_transport_efficiency.Bruggeman at 0x7fe6b6c44bb0>,\n",
       " 'electrode transport efficiency': <pybamm.models.submodels.transport_efficiency.bruggeman_transport_efficiency.Bruggeman at 0x7fe6b6c44dc0>,\n",
       " 'transverse convection': <pybamm.models.submodels.convection.transverse.no_convection.NoConvection at 0x7fe6b6c44df0>,\n",
       " 'through-cell convection': <pybamm.models.submodels.convection.through_cell.no_convection.NoConvection at 0x7fe6b6c44d30>,\n",
       " 'negative primary open-circuit potential': <pybamm.models.submodels.interface.open_circuit_potential.single_ocp.SingleOpenCircuitPotential at 0x7fe6b6c44eb0>,\n",
       " 'positive primary open-circuit potential': <pybamm.models.submodels.interface.open_circuit_potential.single_ocp.SingleOpenCircuitPotential at 0x7fe6b6c44e50>,\n",
       " 'negative interface': <pybamm.models.submodels.interface.kinetics.inverse_kinetics.inverse_butler_volmer.InverseButlerVolmer at 0x7fe6b6c44e20>,\n",
       " 'negative interface current': <pybamm.models.submodels.interface.kinetics.inverse_kinetics.inverse_butler_volmer.CurrentForInverseButlerVolmer at 0x7fe6b6c44f40>,\n",
       " 'positive interface': <pybamm.models.submodels.interface.kinetics.inverse_kinetics.inverse_butler_volmer.InverseButlerVolmer at 0x7fe6b6c44f70>,\n",
       " 'positive interface current': <pybamm.models.submodels.interface.kinetics.inverse_kinetics.inverse_butler_volmer.CurrentForInverseButlerVolmer at 0x7fe6b6c44f10>,\n",
       " 'negative primary particle': <pybamm.models.submodels.particle.fickian_diffusion.FickianDiffusion at 0x7fe6b6c44fa0>,\n",
       " 'negative primary total particle concentration': <pybamm.models.submodels.particle.total_particle_concentration.TotalConcentration at 0x7fe6b6c44fd0>,\n",
       " 'positive primary particle': <pybamm.models.submodels.particle.fickian_diffusion.FickianDiffusion at 0x7fe6b6c51040>,\n",
       " 'positive primary total particle concentration': <pybamm.models.submodels.particle.total_particle_concentration.TotalConcentration at 0x7fe6b6c51070>,\n",
       " 'negative electrode potential': <pybamm.models.submodels.electrode.ohm.leading_ohm.LeadingOrder at 0x7fe6b6c44ee0>,\n",
       " 'positive electrode potential': <pybamm.models.submodels.electrode.ohm.leading_ohm.LeadingOrder at 0x7fe6b6c44e80>,\n",
       " 'electrolyte diffusion': <pybamm.models.submodels.electrolyte_diffusion.constant_concentration.ConstantConcentration at 0x7fe6b6c101c0>,\n",
       " 'leading-order electrolyte conductivity': <pybamm.models.submodels.electrolyte_conductivity.leading_order_conductivity.LeadingOrder at 0x7fe6b6c44c40>,\n",
       " 'negative surface potential difference': <pybamm.models.submodels.electrolyte_conductivity.surface_potential_form.explicit_surface_form_conductivity.Explicit at 0x7fe6b6c44460>,\n",
       " 'positive surface potential difference': <pybamm.models.submodels.electrolyte_conductivity.surface_potential_form.explicit_surface_form_conductivity.Explicit at 0x7fe6b6c44af0>,\n",
       " 'thermal': <pybamm.models.submodels.thermal.isothermal.Isothermal at 0x7fe6b6c44a30>,\n",
       " 'current collector': <pybamm.models.submodels.current_collector.homogeneous_current_collector.Uniform at 0x7fe6b6c44a00>,\n",
       " 'primary sei': <pybamm.models.submodels.interface.sei.no_sei.NoSEI at 0x7fe6b6c448b0>,\n",
       " 'primary sei on cracks': <pybamm.models.submodels.interface.sei.no_sei.NoSEI at 0x7fe6b6c44640>,\n",
       " 'lithium plating': <pybamm.models.submodels.interface.lithium_plating.no_plating.NoPlating at 0x7fe6b6c44880>,\n",
       " 'total interface': <pybamm.models.submodels.interface.total_interfacial_current.TotalInterfacialCurrent at 0x7fe6b6c44700>}"
      ]
     },
     "execution_count": 7,
     "metadata": {},
     "output_type": "execute_result"
    }
   ],
   "source": [
    "spm = pybamm.lithium_ion.SPM()\n",
    "spm.submodels"
   ]
  },
  {
   "cell_type": "code",
   "execution_count": 8,
   "id": "f2fa5bf4",
   "metadata": {},
   "outputs": [
    {
     "name": "stdout",
     "output_type": "stream",
     "text": [
      "<pybamm.models.submodels.electrolyte_diffusion.constant_concentration.ConstantConcentration object at 0x7fe6b6c101c0>\n",
      "<pybamm.models.submodels.electrolyte_diffusion.full_diffusion.Full object at 0x7fe6d5405550>\n"
     ]
    }
   ],
   "source": [
    "print(spm.submodels[\"electrolyte diffusion\"])\n",
    "print(DFN.submodels[\"electrolyte diffusion\"])"
   ]
  },
  {
   "cell_type": "code",
   "execution_count": 9,
   "id": "92a344e5",
   "metadata": {},
   "outputs": [
    {
     "data": {
      "application/vnd.jupyter.widget-view+json": {
       "model_id": "dfeb205372cb46f8a36906d5844af0ae",
       "version_major": 2,
       "version_minor": 0
      },
      "text/plain": [
       "interactive(children=(FloatSlider(value=0.0, description='t', max=1.0, step=0.01), Output()), _dom_classes=('w…"
      ]
     },
     "metadata": {},
     "output_type": "display_data"
    },
    {
     "data": {
      "text/plain": [
       "<pybamm.plotting.quick_plot.QuickPlot at 0x7fe6b6e45eb0>"
      ]
     },
     "execution_count": 9,
     "metadata": {},
     "output_type": "execute_result"
    }
   ],
   "source": [
    "models =[spm, DFN]\n",
    "sols = []\n",
    "for model in models:\n",
    "    sim = pybamm.Simulation(model)\n",
    "    sol = sim.solve([0,3600])\n",
    "    sols.append(sol)\n",
    "\n",
    "pybamm.dynamic_plot(sols, [\"Electrolyte concentration [mol.m-3]\", \"Terminal voltage [V]\"])    "
   ]
  },
  {
   "cell_type": "code",
   "execution_count": null,
   "id": "f33d9af6",
   "metadata": {},
   "outputs": [],
   "source": []
  }
 ],
 "metadata": {
  "kernelspec": {
   "display_name": "Python 3 (ipykernel)",
   "language": "python",
   "name": "python3"
  },
  "language_info": {
   "codemirror_mode": {
    "name": "ipython",
    "version": 3
   },
   "file_extension": ".py",
   "mimetype": "text/x-python",
   "name": "python",
   "nbconvert_exporter": "python",
   "pygments_lexer": "ipython3",
   "version": "3.9.12"
  }
 },
 "nbformat": 4,
 "nbformat_minor": 5
}
